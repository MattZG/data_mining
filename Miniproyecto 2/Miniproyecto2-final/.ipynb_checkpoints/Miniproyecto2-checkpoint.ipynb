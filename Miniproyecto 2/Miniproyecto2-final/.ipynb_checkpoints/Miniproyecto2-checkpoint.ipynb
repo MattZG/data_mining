{
 "cells": [
  {
   "cell_type": "markdown",
   "id": "edb815b4",
   "metadata": {},
   "source": [
    "---\n",
    "---\n",
    "\n",
    "# Miniproyecto 2\n",
    "\n",
    "---\n",
    "---"
   ]
  },
  {
   "cell_type": "markdown",
   "id": "3f0376d0",
   "metadata": {},
   "source": [
    "Nombre:\n",
    "----------\n",
    "\n",
    "Matías Zamorano Goldrine"
   ]
  },
  {
   "cell_type": "markdown",
   "id": "7ae79e95",
   "metadata": {},
   "source": [
    "Puntajes:\n",
    "-----------\n",
    "\n",
    "0.- 2 ptos.\n",
    "\n",
    "1.- 5 ptos.\n",
    "\n",
    "2.- 5 ptos.\n",
    "\n",
    "3.- 10 ptos.\n",
    "\n",
    "4.- 18 ptos.\n",
    "\n",
    "5.- 25 ptos.\n",
    "\n",
    "6.- 25 ptos.\n",
    "\n",
    "7.- 5 ptos.\n",
    "\n",
    "8.- 5 ptos.\n",
    "\n",
    "\n",
    "Total: \n",
    "-------\n",
    "100 ptos."
   ]
  },
  {
   "cell_type": "markdown",
   "id": "7285ac12",
   "metadata": {},
   "source": [
    "## 0.- Cargar librerías y explicar sus usos (2 ptos.): "
   ]
  },
  {
   "cell_type": "markdown",
   "id": "ffaaeace",
   "metadata": {},
   "source": [
    "Respuesta:\n",
    "---\n",
    "    \n",
    "    \n",
    "Iniciamos importando los paquetes que vamos a utilizar. Numpy para trabajar con arreglos, Pandas para poder manipular y explorar la base de datos, Matplotlib para vizualizar la informacion de la base de datos, *LabelEncoder* para transfomar las variables categoricas a numericas, MinMaxScaler para normalizar los datos. Para aplicar los algoritmos importamos del modulo Sklearn las funciones *KNeighborsClassifier*, *train_test_split*, *accuracy_score* y *tree*. Finalmente para complementar los resultados se importan las funciones *plot_tree* y *cross_val_score*."
   ]
  },
  {
   "cell_type": "code",
   "execution_count": 8,
   "id": "dad1adff",
   "metadata": {},
   "outputs": [],
   "source": [
    "import numpy as np\n",
    "import pandas as pd\n",
    "import matplotlib.pyplot as plt\n",
    "from sklearn.preprocessing import MinMaxScaler\n",
    "from sklearn.preprocessing import LabelEncoder\n",
    "from sklearn.neighbors import KNeighborsClassifier\n",
    "from sklearn.model_selection import train_test_split, cross_val_score\n",
    "from sklearn.metrics import accuracy_score\n",
    "from sklearn import tree\n",
    "from sklearn.tree import plot_tree"
   ]
  },
  {
   "cell_type": "markdown",
   "id": "adc57866",
   "metadata": {},
   "source": [
    "## 1.- Cargar datasets y explorar los datos. Explicar las características de los dataset (estadísticas, datos Nan, datos únicos, etc.) (5 ptos.):\n",
    "\n",
    "Apoyarse en la documentación de Pandas https://pandas.pydata.org/pandas-docs/stable/index.html y Seaborn https://seaborn.pydata.org/index.html"
   ]
  },
  {
   "cell_type": "markdown",
   "id": "408519ea",
   "metadata": {},
   "source": [
    "Respuesta:\n",
    "---\n",
    "    \n",
    "    \n",
    "Ahora cargamos la base de datos con el comando *read_csv* y llamamos la base de datos para vizualizar las columnas asi como el total de filas."
   ]
  },
  {
   "cell_type": "code",
   "execution_count": 9,
   "id": "23a1915f",
   "metadata": {},
   "outputs": [
    {
     "data": {
      "text/html": [
       "<div>\n",
       "<style scoped>\n",
       "    .dataframe tbody tr th:only-of-type {\n",
       "        vertical-align: middle;\n",
       "    }\n",
       "\n",
       "    .dataframe tbody tr th {\n",
       "        vertical-align: top;\n",
       "    }\n",
       "\n",
       "    .dataframe thead th {\n",
       "        text-align: right;\n",
       "    }\n",
       "</style>\n",
       "<table border=\"1\" class=\"dataframe\">\n",
       "  <thead>\n",
       "    <tr style=\"text-align: right;\">\n",
       "      <th></th>\n",
       "      <th>age</th>\n",
       "      <th>job</th>\n",
       "      <th>marital</th>\n",
       "      <th>education</th>\n",
       "      <th>default</th>\n",
       "      <th>balance</th>\n",
       "      <th>housing</th>\n",
       "      <th>loan</th>\n",
       "      <th>contact</th>\n",
       "      <th>day</th>\n",
       "      <th>month</th>\n",
       "      <th>duration</th>\n",
       "      <th>campaign</th>\n",
       "      <th>pdays</th>\n",
       "      <th>previous</th>\n",
       "      <th>poutcome</th>\n",
       "      <th>y</th>\n",
       "    </tr>\n",
       "  </thead>\n",
       "  <tbody>\n",
       "    <tr>\n",
       "      <th>0</th>\n",
       "      <td>30</td>\n",
       "      <td>unemployed</td>\n",
       "      <td>married</td>\n",
       "      <td>primary</td>\n",
       "      <td>no</td>\n",
       "      <td>1787</td>\n",
       "      <td>no</td>\n",
       "      <td>no</td>\n",
       "      <td>cellular</td>\n",
       "      <td>19</td>\n",
       "      <td>oct</td>\n",
       "      <td>79</td>\n",
       "      <td>1</td>\n",
       "      <td>-1</td>\n",
       "      <td>0</td>\n",
       "      <td>unknown</td>\n",
       "      <td>no</td>\n",
       "    </tr>\n",
       "    <tr>\n",
       "      <th>1</th>\n",
       "      <td>33</td>\n",
       "      <td>services</td>\n",
       "      <td>married</td>\n",
       "      <td>secondary</td>\n",
       "      <td>no</td>\n",
       "      <td>4789</td>\n",
       "      <td>yes</td>\n",
       "      <td>yes</td>\n",
       "      <td>cellular</td>\n",
       "      <td>11</td>\n",
       "      <td>may</td>\n",
       "      <td>220</td>\n",
       "      <td>1</td>\n",
       "      <td>339</td>\n",
       "      <td>4</td>\n",
       "      <td>failure</td>\n",
       "      <td>no</td>\n",
       "    </tr>\n",
       "    <tr>\n",
       "      <th>2</th>\n",
       "      <td>35</td>\n",
       "      <td>management</td>\n",
       "      <td>single</td>\n",
       "      <td>tertiary</td>\n",
       "      <td>no</td>\n",
       "      <td>1350</td>\n",
       "      <td>yes</td>\n",
       "      <td>no</td>\n",
       "      <td>cellular</td>\n",
       "      <td>16</td>\n",
       "      <td>apr</td>\n",
       "      <td>185</td>\n",
       "      <td>1</td>\n",
       "      <td>330</td>\n",
       "      <td>1</td>\n",
       "      <td>failure</td>\n",
       "      <td>no</td>\n",
       "    </tr>\n",
       "    <tr>\n",
       "      <th>3</th>\n",
       "      <td>30</td>\n",
       "      <td>management</td>\n",
       "      <td>married</td>\n",
       "      <td>tertiary</td>\n",
       "      <td>no</td>\n",
       "      <td>1476</td>\n",
       "      <td>yes</td>\n",
       "      <td>yes</td>\n",
       "      <td>unknown</td>\n",
       "      <td>3</td>\n",
       "      <td>jun</td>\n",
       "      <td>199</td>\n",
       "      <td>4</td>\n",
       "      <td>-1</td>\n",
       "      <td>0</td>\n",
       "      <td>unknown</td>\n",
       "      <td>no</td>\n",
       "    </tr>\n",
       "    <tr>\n",
       "      <th>4</th>\n",
       "      <td>59</td>\n",
       "      <td>blue-collar</td>\n",
       "      <td>married</td>\n",
       "      <td>secondary</td>\n",
       "      <td>no</td>\n",
       "      <td>0</td>\n",
       "      <td>yes</td>\n",
       "      <td>no</td>\n",
       "      <td>unknown</td>\n",
       "      <td>5</td>\n",
       "      <td>may</td>\n",
       "      <td>226</td>\n",
       "      <td>1</td>\n",
       "      <td>-1</td>\n",
       "      <td>0</td>\n",
       "      <td>unknown</td>\n",
       "      <td>no</td>\n",
       "    </tr>\n",
       "    <tr>\n",
       "      <th>...</th>\n",
       "      <td>...</td>\n",
       "      <td>...</td>\n",
       "      <td>...</td>\n",
       "      <td>...</td>\n",
       "      <td>...</td>\n",
       "      <td>...</td>\n",
       "      <td>...</td>\n",
       "      <td>...</td>\n",
       "      <td>...</td>\n",
       "      <td>...</td>\n",
       "      <td>...</td>\n",
       "      <td>...</td>\n",
       "      <td>...</td>\n",
       "      <td>...</td>\n",
       "      <td>...</td>\n",
       "      <td>...</td>\n",
       "      <td>...</td>\n",
       "    </tr>\n",
       "    <tr>\n",
       "      <th>4516</th>\n",
       "      <td>33</td>\n",
       "      <td>services</td>\n",
       "      <td>married</td>\n",
       "      <td>secondary</td>\n",
       "      <td>no</td>\n",
       "      <td>-333</td>\n",
       "      <td>yes</td>\n",
       "      <td>no</td>\n",
       "      <td>cellular</td>\n",
       "      <td>30</td>\n",
       "      <td>jul</td>\n",
       "      <td>329</td>\n",
       "      <td>5</td>\n",
       "      <td>-1</td>\n",
       "      <td>0</td>\n",
       "      <td>unknown</td>\n",
       "      <td>no</td>\n",
       "    </tr>\n",
       "    <tr>\n",
       "      <th>4517</th>\n",
       "      <td>57</td>\n",
       "      <td>self-employed</td>\n",
       "      <td>married</td>\n",
       "      <td>tertiary</td>\n",
       "      <td>yes</td>\n",
       "      <td>-3313</td>\n",
       "      <td>yes</td>\n",
       "      <td>yes</td>\n",
       "      <td>unknown</td>\n",
       "      <td>9</td>\n",
       "      <td>may</td>\n",
       "      <td>153</td>\n",
       "      <td>1</td>\n",
       "      <td>-1</td>\n",
       "      <td>0</td>\n",
       "      <td>unknown</td>\n",
       "      <td>no</td>\n",
       "    </tr>\n",
       "    <tr>\n",
       "      <th>4518</th>\n",
       "      <td>57</td>\n",
       "      <td>technician</td>\n",
       "      <td>married</td>\n",
       "      <td>secondary</td>\n",
       "      <td>no</td>\n",
       "      <td>295</td>\n",
       "      <td>no</td>\n",
       "      <td>no</td>\n",
       "      <td>cellular</td>\n",
       "      <td>19</td>\n",
       "      <td>aug</td>\n",
       "      <td>151</td>\n",
       "      <td>11</td>\n",
       "      <td>-1</td>\n",
       "      <td>0</td>\n",
       "      <td>unknown</td>\n",
       "      <td>no</td>\n",
       "    </tr>\n",
       "    <tr>\n",
       "      <th>4519</th>\n",
       "      <td>28</td>\n",
       "      <td>blue-collar</td>\n",
       "      <td>married</td>\n",
       "      <td>secondary</td>\n",
       "      <td>no</td>\n",
       "      <td>1137</td>\n",
       "      <td>no</td>\n",
       "      <td>no</td>\n",
       "      <td>cellular</td>\n",
       "      <td>6</td>\n",
       "      <td>feb</td>\n",
       "      <td>129</td>\n",
       "      <td>4</td>\n",
       "      <td>211</td>\n",
       "      <td>3</td>\n",
       "      <td>other</td>\n",
       "      <td>no</td>\n",
       "    </tr>\n",
       "    <tr>\n",
       "      <th>4520</th>\n",
       "      <td>44</td>\n",
       "      <td>entrepreneur</td>\n",
       "      <td>single</td>\n",
       "      <td>tertiary</td>\n",
       "      <td>no</td>\n",
       "      <td>1136</td>\n",
       "      <td>yes</td>\n",
       "      <td>yes</td>\n",
       "      <td>cellular</td>\n",
       "      <td>3</td>\n",
       "      <td>apr</td>\n",
       "      <td>345</td>\n",
       "      <td>2</td>\n",
       "      <td>249</td>\n",
       "      <td>7</td>\n",
       "      <td>other</td>\n",
       "      <td>no</td>\n",
       "    </tr>\n",
       "  </tbody>\n",
       "</table>\n",
       "<p>4521 rows × 17 columns</p>\n",
       "</div>"
      ],
      "text/plain": [
       "      age            job  marital  education default  balance housing loan  \\\n",
       "0      30     unemployed  married    primary      no     1787      no   no   \n",
       "1      33       services  married  secondary      no     4789     yes  yes   \n",
       "2      35     management   single   tertiary      no     1350     yes   no   \n",
       "3      30     management  married   tertiary      no     1476     yes  yes   \n",
       "4      59    blue-collar  married  secondary      no        0     yes   no   \n",
       "...   ...            ...      ...        ...     ...      ...     ...  ...   \n",
       "4516   33       services  married  secondary      no     -333     yes   no   \n",
       "4517   57  self-employed  married   tertiary     yes    -3313     yes  yes   \n",
       "4518   57     technician  married  secondary      no      295      no   no   \n",
       "4519   28    blue-collar  married  secondary      no     1137      no   no   \n",
       "4520   44   entrepreneur   single   tertiary      no     1136     yes  yes   \n",
       "\n",
       "       contact  day month  duration  campaign  pdays  previous poutcome   y  \n",
       "0     cellular   19   oct        79         1     -1         0  unknown  no  \n",
       "1     cellular   11   may       220         1    339         4  failure  no  \n",
       "2     cellular   16   apr       185         1    330         1  failure  no  \n",
       "3      unknown    3   jun       199         4     -1         0  unknown  no  \n",
       "4      unknown    5   may       226         1     -1         0  unknown  no  \n",
       "...        ...  ...   ...       ...       ...    ...       ...      ...  ..  \n",
       "4516  cellular   30   jul       329         5     -1         0  unknown  no  \n",
       "4517   unknown    9   may       153         1     -1         0  unknown  no  \n",
       "4518  cellular   19   aug       151        11     -1         0  unknown  no  \n",
       "4519  cellular    6   feb       129         4    211         3    other  no  \n",
       "4520  cellular    3   apr       345         2    249         7    other  no  \n",
       "\n",
       "[4521 rows x 17 columns]"
      ]
     },
     "execution_count": 9,
     "metadata": {},
     "output_type": "execute_result"
    }
   ],
   "source": [
    "df = pd.read_csv('bank.csv', sep = ';')\n",
    "df"
   ]
  },
  {
   "cell_type": "markdown",
   "id": "d9647525-85b2-447e-b267-f0ad043446db",
   "metadata": {},
   "source": [
    "Posteriormente revisamos el hay nulos en alguna de las variables con el comando *info()*."
   ]
  },
  {
   "cell_type": "code",
   "execution_count": 10,
   "id": "ad837678-fc01-4763-9e38-e6ffc837f54e",
   "metadata": {},
   "outputs": [
    {
     "name": "stdout",
     "output_type": "stream",
     "text": [
      "<class 'pandas.core.frame.DataFrame'>\n",
      "RangeIndex: 4521 entries, 0 to 4520\n",
      "Data columns (total 17 columns):\n",
      " #   Column     Non-Null Count  Dtype \n",
      "---  ------     --------------  ----- \n",
      " 0   age        4521 non-null   int64 \n",
      " 1   job        4521 non-null   object\n",
      " 2   marital    4521 non-null   object\n",
      " 3   education  4521 non-null   object\n",
      " 4   default    4521 non-null   object\n",
      " 5   balance    4521 non-null   int64 \n",
      " 6   housing    4521 non-null   object\n",
      " 7   loan       4521 non-null   object\n",
      " 8   contact    4521 non-null   object\n",
      " 9   day        4521 non-null   int64 \n",
      " 10  month      4521 non-null   object\n",
      " 11  duration   4521 non-null   int64 \n",
      " 12  campaign   4521 non-null   int64 \n",
      " 13  pdays      4521 non-null   int64 \n",
      " 14  previous   4521 non-null   int64 \n",
      " 15  poutcome   4521 non-null   object\n",
      " 16  y          4521 non-null   object\n",
      "dtypes: int64(7), object(10)\n",
      "memory usage: 600.6+ KB\n"
     ]
    }
   ],
   "source": [
    "df.info()"
   ]
  },
  {
   "cell_type": "markdown",
   "id": "bbde8528-3c4a-4b5c-8d0b-a798dc0e4a12",
   "metadata": {},
   "source": [
    "Se puede ver que no hay datos nulos, tal que nos ahorramos el tener que despurar nulos. Continuamos con una revision estadistica de la base de datos, aplicando el comando *describe()* para ver el promedio, desviacion estandar, minimos y maximos de las variables numericas."
   ]
  },
  {
   "cell_type": "code",
   "execution_count": 11,
   "id": "c71ec837-6d85-41e5-a975-8d2977385840",
   "metadata": {},
   "outputs": [
    {
     "data": {
      "text/html": [
       "<div>\n",
       "<style scoped>\n",
       "    .dataframe tbody tr th:only-of-type {\n",
       "        vertical-align: middle;\n",
       "    }\n",
       "\n",
       "    .dataframe tbody tr th {\n",
       "        vertical-align: top;\n",
       "    }\n",
       "\n",
       "    .dataframe thead th {\n",
       "        text-align: right;\n",
       "    }\n",
       "</style>\n",
       "<table border=\"1\" class=\"dataframe\">\n",
       "  <thead>\n",
       "    <tr style=\"text-align: right;\">\n",
       "      <th></th>\n",
       "      <th>age</th>\n",
       "      <th>balance</th>\n",
       "      <th>day</th>\n",
       "      <th>duration</th>\n",
       "      <th>campaign</th>\n",
       "      <th>pdays</th>\n",
       "      <th>previous</th>\n",
       "    </tr>\n",
       "  </thead>\n",
       "  <tbody>\n",
       "    <tr>\n",
       "      <th>count</th>\n",
       "      <td>4521.000000</td>\n",
       "      <td>4521.000000</td>\n",
       "      <td>4521.000000</td>\n",
       "      <td>4521.000000</td>\n",
       "      <td>4521.000000</td>\n",
       "      <td>4521.000000</td>\n",
       "      <td>4521.000000</td>\n",
       "    </tr>\n",
       "    <tr>\n",
       "      <th>mean</th>\n",
       "      <td>41.170095</td>\n",
       "      <td>1422.657819</td>\n",
       "      <td>15.915284</td>\n",
       "      <td>263.961292</td>\n",
       "      <td>2.793630</td>\n",
       "      <td>39.766645</td>\n",
       "      <td>0.542579</td>\n",
       "    </tr>\n",
       "    <tr>\n",
       "      <th>std</th>\n",
       "      <td>10.576211</td>\n",
       "      <td>3009.638142</td>\n",
       "      <td>8.247667</td>\n",
       "      <td>259.856633</td>\n",
       "      <td>3.109807</td>\n",
       "      <td>100.121124</td>\n",
       "      <td>1.693562</td>\n",
       "    </tr>\n",
       "    <tr>\n",
       "      <th>min</th>\n",
       "      <td>19.000000</td>\n",
       "      <td>-3313.000000</td>\n",
       "      <td>1.000000</td>\n",
       "      <td>4.000000</td>\n",
       "      <td>1.000000</td>\n",
       "      <td>-1.000000</td>\n",
       "      <td>0.000000</td>\n",
       "    </tr>\n",
       "    <tr>\n",
       "      <th>25%</th>\n",
       "      <td>33.000000</td>\n",
       "      <td>69.000000</td>\n",
       "      <td>9.000000</td>\n",
       "      <td>104.000000</td>\n",
       "      <td>1.000000</td>\n",
       "      <td>-1.000000</td>\n",
       "      <td>0.000000</td>\n",
       "    </tr>\n",
       "    <tr>\n",
       "      <th>50%</th>\n",
       "      <td>39.000000</td>\n",
       "      <td>444.000000</td>\n",
       "      <td>16.000000</td>\n",
       "      <td>185.000000</td>\n",
       "      <td>2.000000</td>\n",
       "      <td>-1.000000</td>\n",
       "      <td>0.000000</td>\n",
       "    </tr>\n",
       "    <tr>\n",
       "      <th>75%</th>\n",
       "      <td>49.000000</td>\n",
       "      <td>1480.000000</td>\n",
       "      <td>21.000000</td>\n",
       "      <td>329.000000</td>\n",
       "      <td>3.000000</td>\n",
       "      <td>-1.000000</td>\n",
       "      <td>0.000000</td>\n",
       "    </tr>\n",
       "    <tr>\n",
       "      <th>max</th>\n",
       "      <td>87.000000</td>\n",
       "      <td>71188.000000</td>\n",
       "      <td>31.000000</td>\n",
       "      <td>3025.000000</td>\n",
       "      <td>50.000000</td>\n",
       "      <td>871.000000</td>\n",
       "      <td>25.000000</td>\n",
       "    </tr>\n",
       "  </tbody>\n",
       "</table>\n",
       "</div>"
      ],
      "text/plain": [
       "               age       balance          day     duration     campaign  \\\n",
       "count  4521.000000   4521.000000  4521.000000  4521.000000  4521.000000   \n",
       "mean     41.170095   1422.657819    15.915284   263.961292     2.793630   \n",
       "std      10.576211   3009.638142     8.247667   259.856633     3.109807   \n",
       "min      19.000000  -3313.000000     1.000000     4.000000     1.000000   \n",
       "25%      33.000000     69.000000     9.000000   104.000000     1.000000   \n",
       "50%      39.000000    444.000000    16.000000   185.000000     2.000000   \n",
       "75%      49.000000   1480.000000    21.000000   329.000000     3.000000   \n",
       "max      87.000000  71188.000000    31.000000  3025.000000    50.000000   \n",
       "\n",
       "             pdays     previous  \n",
       "count  4521.000000  4521.000000  \n",
       "mean     39.766645     0.542579  \n",
       "std     100.121124     1.693562  \n",
       "min      -1.000000     0.000000  \n",
       "25%      -1.000000     0.000000  \n",
       "50%      -1.000000     0.000000  \n",
       "75%      -1.000000     0.000000  \n",
       "max     871.000000    25.000000  "
      ]
     },
     "execution_count": 11,
     "metadata": {},
     "output_type": "execute_result"
    }
   ],
   "source": [
    "df.describe()"
   ]
  },
  {
   "cell_type": "markdown",
   "id": "58796d34-12a7-477b-8788-a0117932ae74",
   "metadata": {},
   "source": [
    "Para realizar un analisis completo tambien vamos a calcular la mediana, moda y varianza de las variables numericas. Con respecto a las variables categoricas agregamos el valor estadisctico de la moda. Para ello primero hacemos dos listas donde agrupamos las variables segun su tipo."
   ]
  },
  {
   "cell_type": "code",
   "execution_count": 12,
   "id": "34d8935f-671c-4fb2-a8bc-12dc1a75f078",
   "metadata": {},
   "outputs": [],
   "source": [
    "categoricas = ['job', 'marital','education', 'default', 'housing', 'loan', 'contact', 'month', 'poutcome', 'y']\n",
    "numericas = ['age', 'balance', 'day', 'duration', 'campaign', 'pdays', 'previous']"
   ]
  },
  {
   "cell_type": "markdown",
   "id": "307f1a55-b798-440c-a1cf-2f3f4bf69a46",
   "metadata": {},
   "source": [
    "Con ello ya podemos calcular la varianza con el comando *var()*, la mediana utilizando *median()* y la moda a traves del metodo *mode()*."
   ]
  },
  {
   "cell_type": "code",
   "execution_count": 14,
   "id": "d8141e40-a1d0-4ef0-9d8f-6058aebaec61",
   "metadata": {},
   "outputs": [
    {
     "data": {
      "text/html": [
       "<div>\n",
       "<style scoped>\n",
       "    .dataframe tbody tr th:only-of-type {\n",
       "        vertical-align: middle;\n",
       "    }\n",
       "\n",
       "    .dataframe tbody tr th {\n",
       "        vertical-align: top;\n",
       "    }\n",
       "\n",
       "    .dataframe thead th {\n",
       "        text-align: right;\n",
       "    }\n",
       "</style>\n",
       "<table border=\"1\" class=\"dataframe\">\n",
       "  <thead>\n",
       "    <tr style=\"text-align: right;\">\n",
       "      <th></th>\n",
       "      <th>job</th>\n",
       "      <th>marital</th>\n",
       "      <th>education</th>\n",
       "      <th>default</th>\n",
       "      <th>housing</th>\n",
       "      <th>loan</th>\n",
       "      <th>contact</th>\n",
       "      <th>month</th>\n",
       "      <th>poutcome</th>\n",
       "      <th>y</th>\n",
       "    </tr>\n",
       "  </thead>\n",
       "  <tbody>\n",
       "    <tr>\n",
       "      <th>0</th>\n",
       "      <td>management</td>\n",
       "      <td>married</td>\n",
       "      <td>secondary</td>\n",
       "      <td>no</td>\n",
       "      <td>yes</td>\n",
       "      <td>no</td>\n",
       "      <td>cellular</td>\n",
       "      <td>may</td>\n",
       "      <td>unknown</td>\n",
       "      <td>no</td>\n",
       "    </tr>\n",
       "  </tbody>\n",
       "</table>\n",
       "</div>"
      ],
      "text/plain": [
       "          job  marital  education default housing loan   contact month  \\\n",
       "0  management  married  secondary      no     yes   no  cellular   may   \n",
       "\n",
       "  poutcome   y  \n",
       "0  unknown  no  "
      ]
     },
     "execution_count": 14,
     "metadata": {},
     "output_type": "execute_result"
    }
   ],
   "source": [
    "df[categoricas].mode()"
   ]
  },
  {
   "cell_type": "code",
   "execution_count": 15,
   "id": "af830ab2-6239-4030-adb0-ff9c8dea2655",
   "metadata": {},
   "outputs": [
    {
     "data": {
      "text/plain": [
       "age         1.118562e+02\n",
       "balance     9.057922e+06\n",
       "day         6.802402e+01\n",
       "duration    6.752547e+04\n",
       "campaign    9.670897e+00\n",
       "pdays       1.002424e+04\n",
       "previous    2.868153e+00\n",
       "dtype: float64"
      ]
     },
     "execution_count": 15,
     "metadata": {},
     "output_type": "execute_result"
    }
   ],
   "source": [
    "df[numericas].var()"
   ]
  },
  {
   "cell_type": "code",
   "execution_count": 16,
   "id": "d50b729a-d28e-4524-a86a-39b9b0ab81eb",
   "metadata": {},
   "outputs": [
    {
     "data": {
      "text/plain": [
       "age          39.0\n",
       "balance     444.0\n",
       "day          16.0\n",
       "duration    185.0\n",
       "campaign      2.0\n",
       "pdays        -1.0\n",
       "previous      0.0\n",
       "dtype: float64"
      ]
     },
     "execution_count": 16,
     "metadata": {},
     "output_type": "execute_result"
    }
   ],
   "source": [
    "df[numericas].median()"
   ]
  },
  {
   "cell_type": "code",
   "execution_count": 17,
   "id": "c091f349-74ea-4a87-8388-93390ce4565c",
   "metadata": {},
   "outputs": [
    {
     "data": {
      "text/html": [
       "<div>\n",
       "<style scoped>\n",
       "    .dataframe tbody tr th:only-of-type {\n",
       "        vertical-align: middle;\n",
       "    }\n",
       "\n",
       "    .dataframe tbody tr th {\n",
       "        vertical-align: top;\n",
       "    }\n",
       "\n",
       "    .dataframe thead th {\n",
       "        text-align: right;\n",
       "    }\n",
       "</style>\n",
       "<table border=\"1\" class=\"dataframe\">\n",
       "  <thead>\n",
       "    <tr style=\"text-align: right;\">\n",
       "      <th></th>\n",
       "      <th>age</th>\n",
       "      <th>balance</th>\n",
       "      <th>day</th>\n",
       "      <th>duration</th>\n",
       "      <th>campaign</th>\n",
       "      <th>pdays</th>\n",
       "      <th>previous</th>\n",
       "    </tr>\n",
       "  </thead>\n",
       "  <tbody>\n",
       "    <tr>\n",
       "      <th>0</th>\n",
       "      <td>34</td>\n",
       "      <td>0</td>\n",
       "      <td>20</td>\n",
       "      <td>123</td>\n",
       "      <td>1</td>\n",
       "      <td>-1</td>\n",
       "      <td>0</td>\n",
       "    </tr>\n",
       "  </tbody>\n",
       "</table>\n",
       "</div>"
      ],
      "text/plain": [
       "   age  balance  day  duration  campaign  pdays  previous\n",
       "0   34        0   20       123         1     -1         0"
      ]
     },
     "execution_count": 17,
     "metadata": {},
     "output_type": "execute_result"
    }
   ],
   "source": [
    "df[numericas].mode()"
   ]
  },
  {
   "cell_type": "markdown",
   "id": "aa2cf298-c66d-42ec-a89b-f6fe0b26dbdb",
   "metadata": {},
   "source": [
    "Finalmente, utilizamos el comando *nunique()* para determinar cuantos valores unicos hay por variables y lo utilizamos como referencia para determinar que variables vamos a vizualizar en el siguiente item."
   ]
  },
  {
   "cell_type": "code",
   "execution_count": 18,
   "id": "7fd89927-2fb1-40aa-aabc-129b511aa52d",
   "metadata": {},
   "outputs": [
    {
     "data": {
      "text/plain": [
       "age            67\n",
       "job            12\n",
       "marital         3\n",
       "education       4\n",
       "default         2\n",
       "balance      2353\n",
       "housing         2\n",
       "loan            2\n",
       "contact         3\n",
       "day            31\n",
       "month          12\n",
       "duration      875\n",
       "campaign       32\n",
       "pdays         292\n",
       "previous       24\n",
       "poutcome        4\n",
       "y               2\n",
       "dtype: int64"
      ]
     },
     "execution_count": 18,
     "metadata": {},
     "output_type": "execute_result"
    }
   ],
   "source": [
    "df.nunique()"
   ]
  },
  {
   "cell_type": "markdown",
   "id": "2c817851-23b4-4947-bc5c-c11e2c58fc43",
   "metadata": {},
   "source": [
    "Dado que *balance*, *pdays* y *duration* son las variables con mas valores unicos, además de ser variables que no trabaje en el proyecto anterior, seran las que vamos a vizualizar acontinuacion."
   ]
  },
  {
   "cell_type": "markdown",
   "id": "859600bc",
   "metadata": {},
   "source": [
    "## 2.- Generar dos graficos que caractericen los datos y explicarlos (5 ptos.):\n",
    "\n",
    "Apoyarse en la documentación de Matplotlib https://matplotlib.org/ y Seaborn https://seaborn.pydata.org/index.html "
   ]
  },
  {
   "cell_type": "markdown",
   "id": "f4a195b3",
   "metadata": {},
   "source": [
    "Respuesta:\n",
    "---\n",
    "    \n",
    "    \n",
    "Primero vamos a hacer un histograma de la variables *balance* dado que es la variable con mayor numero de valores unicos. Sin embargo, dado que esta variable posee valor negativos, que se pueden interpretar como un deuda, se separan por color donde el verde presenta valor positivos y el rojo valores negativos. "
   ]
  },
  {
   "cell_type": "code",
   "execution_count": 19,
   "id": "c70238b0",
   "metadata": {},
   "outputs": [
    {
     "data": {
      "image/png": "[encoded data removed]",
      "text/plain": [
       "<Figure size 800x600 with 1 Axes>"
      ]
     },
     "metadata": {},
     "output_type": "display_data"
    }
   ],
   "source": [
    "plt.figure(figsize=(8,6))\n",
    "plt.hist([df[df['balance'] >= 0]['balance'], df[df['balance'] <0]['balance']], bins = 30, stacked = True, color = ['green', 'red'],\n",
    "        label = ['Positivos' , 'Negativos'], alpha = 0.7, edgecolor = 'black')\n",
    "plt.title('Distibucion de la variable balance')\n",
    "plt.xlabel('Balance')\n",
    "plt.ylabel('Frecuencia')\n",
    "plt.xticks(rotation = 45, ha = 'right', fontsize = 8)\n",
    "plt.tight_layout()\n",
    "plt.show()"
   ]
  },
  {
   "cell_type": "markdown",
   "id": "b6df985e-48f0-4855-9f12-7e3e025d791a",
   "metadata": {},
   "source": [
    "Este grafico complementa algo que ya se podian notar al hacer estadistica de la base de datosl, que es el alto numero de *balance* igual a 0. Por otra parte, tomando los datos *pdays* y *duration* que tambien poseen muchos valores unicos, utilizamos un grafico de dispersión para ver si ambas variables estan correlacionadas."
   ]
  },
  {
   "cell_type": "code",
   "execution_count": 20,
   "id": "d663d7f4-7bca-4e51-a4c7-38f73f462a4e",
   "metadata": {},
   "outputs": [
    {
     "data": {
      "image/png": "[encoded data removed]",
      "text/plain": [
       "<Figure size 800x600 with 1 Axes>"
      ]
     },
     "metadata": {},
     "output_type": "display_data"
    }
   ],
   "source": [
    "plt.figure(figsize = (8,6))\n",
    "plt.scatter(df['pdays'], df['duration'], color = 'blue', alpha = 0.5)\n",
    "plt.title('Duracíon del cliente desde el ultimo día de contacto')\n",
    "plt.xlabel('Dias desde el ultimo contacto')\n",
    "plt.ylabel('Duración')\n",
    "plt.show()"
   ]
  },
  {
   "cell_type": "markdown",
   "id": "74829480-d212-4b78-92cc-279760c9d43d",
   "metadata": {},
   "source": [
    "Si decidimos ignorar los outliners, podemos notar que hay cierta relacion entre ambas variables, aunque lo que mas se puede apreciar es que hay una acumulación de puntos. En general podriamos interpretar en su mayoria de clientes tiene una duracion aproximada de un año y reciben contacto con relativa frecuencia. Otro elemento a considerar es la concentración de clientes que posee *duration* igual a 0 es bastante, tal que podrian ser clientes nuevos o con en constante contacto.  "
   ]
  },
  {
   "cell_type": "markdown",
   "id": "a82158a0",
   "metadata": {},
   "source": [
    "## 3.- Limpiar dataset, trabajar missing data, homogeneizar datos.\n",
    "## Explicar las decisiones tomadas y los pasos realizados (10 ptos.):\n",
    "\n",
    "Apoyarse en la documentación de Pandas para los distintos tipos de uniones https://pandas.pydata.org/pandas-docs/stable/user_guide/merging.html"
   ]
  },
  {
   "cell_type": "markdown",
   "id": "736f961c",
   "metadata": {},
   "source": [
    "Respuesta:\n",
    "---\n",
    "    \n",
    "    \n",
    "Dado que la base de datos no posee valores nulos solo nos vamos a enfocar en homogeneizar los valores de la base de datos para que sean del mismo tipo, es decir numerico. Para ello primero copiamos la base de datos y definimos el *LabelEncoder()* para transformar los datos categoricos a numericos."
   ]
  },
  {
   "cell_type": "code",
   "execution_count": 21,
   "id": "fd035c4c",
   "metadata": {},
   "outputs": [],
   "source": [
    "df_homo = df.copy()\n",
    "label_encoder = LabelEncoder()"
   ]
  },
  {
   "cell_type": "markdown",
   "id": "37ea0112-e8fd-4337-9292-139363e7aae9",
   "metadata": {},
   "source": [
    "Ahora utilizando un ciclo *for* por cada columna que poseea datos del tipo *object* le vamos a aplicar el *LabelEnconder()* para que pase a ser una variable numerica. Finalmente revisamos el data set resultante para corroborar el resultado."
   ]
  },
  {
   "cell_type": "code",
   "execution_count": 22,
   "id": "62525379-732e-45af-ab27-bb7c898e1720",
   "metadata": {},
   "outputs": [
    {
     "data": {
      "text/html": [
       "<div>\n",
       "<style scoped>\n",
       "    .dataframe tbody tr th:only-of-type {\n",
       "        vertical-align: middle;\n",
       "    }\n",
       "\n",
       "    .dataframe tbody tr th {\n",
       "        vertical-align: top;\n",
       "    }\n",
       "\n",
       "    .dataframe thead th {\n",
       "        text-align: right;\n",
       "    }\n",
       "</style>\n",
       "<table border=\"1\" class=\"dataframe\">\n",
       "  <thead>\n",
       "    <tr style=\"text-align: right;\">\n",
       "      <th></th>\n",
       "      <th>age</th>\n",
       "      <th>job</th>\n",
       "      <th>marital</th>\n",
       "      <th>education</th>\n",
       "      <th>default</th>\n",
       "      <th>balance</th>\n",
       "      <th>housing</th>\n",
       "      <th>loan</th>\n",
       "      <th>contact</th>\n",
       "      <th>day</th>\n",
       "      <th>month</th>\n",
       "      <th>duration</th>\n",
       "      <th>campaign</th>\n",
       "      <th>pdays</th>\n",
       "      <th>previous</th>\n",
       "      <th>poutcome</th>\n",
       "      <th>y</th>\n",
       "    </tr>\n",
       "  </thead>\n",
       "  <tbody>\n",
       "    <tr>\n",
       "      <th>0</th>\n",
       "      <td>30</td>\n",
       "      <td>10</td>\n",
       "      <td>1</td>\n",
       "      <td>0</td>\n",
       "      <td>0</td>\n",
       "      <td>1787</td>\n",
       "      <td>0</td>\n",
       "      <td>0</td>\n",
       "      <td>0</td>\n",
       "      <td>19</td>\n",
       "      <td>10</td>\n",
       "      <td>79</td>\n",
       "      <td>1</td>\n",
       "      <td>-1</td>\n",
       "      <td>0</td>\n",
       "      <td>3</td>\n",
       "      <td>0</td>\n",
       "    </tr>\n",
       "    <tr>\n",
       "      <th>1</th>\n",
       "      <td>33</td>\n",
       "      <td>7</td>\n",
       "      <td>1</td>\n",
       "      <td>1</td>\n",
       "      <td>0</td>\n",
       "      <td>4789</td>\n",
       "      <td>1</td>\n",
       "      <td>1</td>\n",
       "      <td>0</td>\n",
       "      <td>11</td>\n",
       "      <td>8</td>\n",
       "      <td>220</td>\n",
       "      <td>1</td>\n",
       "      <td>339</td>\n",
       "      <td>4</td>\n",
       "      <td>0</td>\n",
       "      <td>0</td>\n",
       "    </tr>\n",
       "    <tr>\n",
       "      <th>2</th>\n",
       "      <td>35</td>\n",
       "      <td>4</td>\n",
       "      <td>2</td>\n",
       "      <td>2</td>\n",
       "      <td>0</td>\n",
       "      <td>1350</td>\n",
       "      <td>1</td>\n",
       "      <td>0</td>\n",
       "      <td>0</td>\n",
       "      <td>16</td>\n",
       "      <td>0</td>\n",
       "      <td>185</td>\n",
       "      <td>1</td>\n",
       "      <td>330</td>\n",
       "      <td>1</td>\n",
       "      <td>0</td>\n",
       "      <td>0</td>\n",
       "    </tr>\n",
       "    <tr>\n",
       "      <th>3</th>\n",
       "      <td>30</td>\n",
       "      <td>4</td>\n",
       "      <td>1</td>\n",
       "      <td>2</td>\n",
       "      <td>0</td>\n",
       "      <td>1476</td>\n",
       "      <td>1</td>\n",
       "      <td>1</td>\n",
       "      <td>2</td>\n",
       "      <td>3</td>\n",
       "      <td>6</td>\n",
       "      <td>199</td>\n",
       "      <td>4</td>\n",
       "      <td>-1</td>\n",
       "      <td>0</td>\n",
       "      <td>3</td>\n",
       "      <td>0</td>\n",
       "    </tr>\n",
       "    <tr>\n",
       "      <th>4</th>\n",
       "      <td>59</td>\n",
       "      <td>1</td>\n",
       "      <td>1</td>\n",
       "      <td>1</td>\n",
       "      <td>0</td>\n",
       "      <td>0</td>\n",
       "      <td>1</td>\n",
       "      <td>0</td>\n",
       "      <td>2</td>\n",
       "      <td>5</td>\n",
       "      <td>8</td>\n",
       "      <td>226</td>\n",
       "      <td>1</td>\n",
       "      <td>-1</td>\n",
       "      <td>0</td>\n",
       "      <td>3</td>\n",
       "      <td>0</td>\n",
       "    </tr>\n",
       "    <tr>\n",
       "      <th>...</th>\n",
       "      <td>...</td>\n",
       "      <td>...</td>\n",
       "      <td>...</td>\n",
       "      <td>...</td>\n",
       "      <td>...</td>\n",
       "      <td>...</td>\n",
       "      <td>...</td>\n",
       "      <td>...</td>\n",
       "      <td>...</td>\n",
       "      <td>...</td>\n",
       "      <td>...</td>\n",
       "      <td>...</td>\n",
       "      <td>...</td>\n",
       "      <td>...</td>\n",
       "      <td>...</td>\n",
       "      <td>...</td>\n",
       "      <td>...</td>\n",
       "    </tr>\n",
       "    <tr>\n",
       "      <th>4516</th>\n",
       "      <td>33</td>\n",
       "      <td>7</td>\n",
       "      <td>1</td>\n",
       "      <td>1</td>\n",
       "      <td>0</td>\n",
       "      <td>-333</td>\n",
       "      <td>1</td>\n",
       "      <td>0</td>\n",
       "      <td>0</td>\n",
       "      <td>30</td>\n",
       "      <td>5</td>\n",
       "      <td>329</td>\n",
       "      <td>5</td>\n",
       "      <td>-1</td>\n",
       "      <td>0</td>\n",
       "      <td>3</td>\n",
       "      <td>0</td>\n",
       "    </tr>\n",
       "    <tr>\n",
       "      <th>4517</th>\n",
       "      <td>57</td>\n",
       "      <td>6</td>\n",
       "      <td>1</td>\n",
       "      <td>2</td>\n",
       "      <td>1</td>\n",
       "      <td>-3313</td>\n",
       "      <td>1</td>\n",
       "      <td>1</td>\n",
       "      <td>2</td>\n",
       "      <td>9</td>\n",
       "      <td>8</td>\n",
       "      <td>153</td>\n",
       "      <td>1</td>\n",
       "      <td>-1</td>\n",
       "      <td>0</td>\n",
       "      <td>3</td>\n",
       "      <td>0</td>\n",
       "    </tr>\n",
       "    <tr>\n",
       "      <th>4518</th>\n",
       "      <td>57</td>\n",
       "      <td>9</td>\n",
       "      <td>1</td>\n",
       "      <td>1</td>\n",
       "      <td>0</td>\n",
       "      <td>295</td>\n",
       "      <td>0</td>\n",
       "      <td>0</td>\n",
       "      <td>0</td>\n",
       "      <td>19</td>\n",
       "      <td>1</td>\n",
       "      <td>151</td>\n",
       "      <td>11</td>\n",
       "      <td>-1</td>\n",
       "      <td>0</td>\n",
       "      <td>3</td>\n",
       "      <td>0</td>\n",
       "    </tr>\n",
       "    <tr>\n",
       "      <th>4519</th>\n",
       "      <td>28</td>\n",
       "      <td>1</td>\n",
       "      <td>1</td>\n",
       "      <td>1</td>\n",
       "      <td>0</td>\n",
       "      <td>1137</td>\n",
       "      <td>0</td>\n",
       "      <td>0</td>\n",
       "      <td>0</td>\n",
       "      <td>6</td>\n",
       "      <td>3</td>\n",
       "      <td>129</td>\n",
       "      <td>4</td>\n",
       "      <td>211</td>\n",
       "      <td>3</td>\n",
       "      <td>1</td>\n",
       "      <td>0</td>\n",
       "    </tr>\n",
       "    <tr>\n",
       "      <th>4520</th>\n",
       "      <td>44</td>\n",
       "      <td>2</td>\n",
       "      <td>2</td>\n",
       "      <td>2</td>\n",
       "      <td>0</td>\n",
       "      <td>1136</td>\n",
       "      <td>1</td>\n",
       "      <td>1</td>\n",
       "      <td>0</td>\n",
       "      <td>3</td>\n",
       "      <td>0</td>\n",
       "      <td>345</td>\n",
       "      <td>2</td>\n",
       "      <td>249</td>\n",
       "      <td>7</td>\n",
       "      <td>1</td>\n",
       "      <td>0</td>\n",
       "    </tr>\n",
       "  </tbody>\n",
       "</table>\n",
       "<p>4521 rows × 17 columns</p>\n",
       "</div>"
      ],
      "text/plain": [
       "      age  job  marital  education  default  balance  housing  loan  contact  \\\n",
       "0      30   10        1          0        0     1787        0     0        0   \n",
       "1      33    7        1          1        0     4789        1     1        0   \n",
       "2      35    4        2          2        0     1350        1     0        0   \n",
       "3      30    4        1          2        0     1476        1     1        2   \n",
       "4      59    1        1          1        0        0        1     0        2   \n",
       "...   ...  ...      ...        ...      ...      ...      ...   ...      ...   \n",
       "4516   33    7        1          1        0     -333        1     0        0   \n",
       "4517   57    6        1          2        1    -3313        1     1        2   \n",
       "4518   57    9        1          1        0      295        0     0        0   \n",
       "4519   28    1        1          1        0     1137        0     0        0   \n",
       "4520   44    2        2          2        0     1136        1     1        0   \n",
       "\n",
       "      day  month  duration  campaign  pdays  previous  poutcome  y  \n",
       "0      19     10        79         1     -1         0         3  0  \n",
       "1      11      8       220         1    339         4         0  0  \n",
       "2      16      0       185         1    330         1         0  0  \n",
       "3       3      6       199         4     -1         0         3  0  \n",
       "4       5      8       226         1     -1         0         3  0  \n",
       "...   ...    ...       ...       ...    ...       ...       ... ..  \n",
       "4516   30      5       329         5     -1         0         3  0  \n",
       "4517    9      8       153         1     -1         0         3  0  \n",
       "4518   19      1       151        11     -1         0         3  0  \n",
       "4519    6      3       129         4    211         3         1  0  \n",
       "4520    3      0       345         2    249         7         1  0  \n",
       "\n",
       "[4521 rows x 17 columns]"
      ]
     },
     "execution_count": 22,
     "metadata": {},
     "output_type": "execute_result"
    }
   ],
   "source": [
    "for col in df.columns:\n",
    "    if df[col].dtype == 'object':\n",
    "        df_homo[col] = label_encoder.fit_transform(df[col])\n",
    "df_homo"
   ]
  },
  {
   "cell_type": "markdown",
   "id": "1f23a6b6-2f78-4b14-9bad-63bab0dff930",
   "metadata": {},
   "source": [
    "Para complementar la homogeneización vamos a aplicar los comandos *info()* y *nunique()* para comprobar que tengamos la misma estructura de la base de datos, es decir que no perdimos información."
   ]
  },
  {
   "cell_type": "code",
   "execution_count": 23,
   "id": "79335830-8456-40b5-9afb-872285d57f60",
   "metadata": {},
   "outputs": [
    {
     "name": "stdout",
     "output_type": "stream",
     "text": [
      "<class 'pandas.core.frame.DataFrame'>\n",
      "RangeIndex: 4521 entries, 0 to 4520\n",
      "Data columns (total 17 columns):\n",
      " #   Column     Non-Null Count  Dtype\n",
      "---  ------     --------------  -----\n",
      " 0   age        4521 non-null   int64\n",
      " 1   job        4521 non-null   int32\n",
      " 2   marital    4521 non-null   int32\n",
      " 3   education  4521 non-null   int32\n",
      " 4   default    4521 non-null   int32\n",
      " 5   balance    4521 non-null   int64\n",
      " 6   housing    4521 non-null   int32\n",
      " 7   loan       4521 non-null   int32\n",
      " 8   contact    4521 non-null   int32\n",
      " 9   day        4521 non-null   int64\n",
      " 10  month      4521 non-null   int32\n",
      " 11  duration   4521 non-null   int64\n",
      " 12  campaign   4521 non-null   int64\n",
      " 13  pdays      4521 non-null   int64\n",
      " 14  previous   4521 non-null   int64\n",
      " 15  poutcome   4521 non-null   int32\n",
      " 16  y          4521 non-null   int32\n",
      "dtypes: int32(10), int64(7)\n",
      "memory usage: 424.0 KB\n"
     ]
    }
   ],
   "source": [
    "df_homo.info()"
   ]
  },
  {
   "cell_type": "code",
   "execution_count": 24,
   "id": "58c9164a-7f38-4583-8827-81470ea79fab",
   "metadata": {},
   "outputs": [
    {
     "data": {
      "text/plain": [
       "age            67\n",
       "job            12\n",
       "marital         3\n",
       "education       4\n",
       "default         2\n",
       "balance      2353\n",
       "housing         2\n",
       "loan            2\n",
       "contact         3\n",
       "day            31\n",
       "month          12\n",
       "duration      875\n",
       "campaign       32\n",
       "pdays         292\n",
       "previous       24\n",
       "poutcome        4\n",
       "y               2\n",
       "dtype: int64"
      ]
     },
     "execution_count": 24,
     "metadata": {},
     "output_type": "execute_result"
    }
   ],
   "source": [
    "df_homo.nunique()"
   ]
  },
  {
   "cell_type": "markdown",
   "id": "0bacb853",
   "metadata": {},
   "source": [
    "## 4.- Transformar datos a numérico, generar matriz de atributos, generar vector de label y normalizar los datos, explicar el tipo de normalización utilizada (recordar que es normalización de datos y no normalización de base de datos, i.e. Standard Scaler, MinMax Scaler, etc.) \n",
    "## Explicar las decisiones tomadas y los pasos realizados (18 ptos.):\n",
    "\n",
    "\n",
    "Apoyarse en la documentación de Scikit-Learn para los distintos tipos de normalización de datos https://scikit-learn.org/stable/modules/classes.html#module-sklearn.preprocessing"
   ]
  },
  {
   "cell_type": "markdown",
   "id": "f7ce070f",
   "metadata": {},
   "source": [
    "Respuesta:\n",
    "---\n",
    "    \n",
    "    \n",
    "Para homogeneizar, primero vamos a revisar la estadistica general para todas nuestras variables con el comando *describe()*."
   ]
  },
  {
   "cell_type": "code",
   "execution_count": 25,
   "id": "a692e879-f1f4-4c82-80e9-7924c737b722",
   "metadata": {},
   "outputs": [
    {
     "data": {
      "text/html": [
       "<div>\n",
       "<style scoped>\n",
       "    .dataframe tbody tr th:only-of-type {\n",
       "        vertical-align: middle;\n",
       "    }\n",
       "\n",
       "    .dataframe tbody tr th {\n",
       "        vertical-align: top;\n",
       "    }\n",
       "\n",
       "    .dataframe thead th {\n",
       "        text-align: right;\n",
       "    }\n",
       "</style>\n",
       "<table border=\"1\" class=\"dataframe\">\n",
       "  <thead>\n",
       "    <tr style=\"text-align: right;\">\n",
       "      <th></th>\n",
       "      <th>age</th>\n",
       "      <th>job</th>\n",
       "      <th>marital</th>\n",
       "      <th>education</th>\n",
       "      <th>default</th>\n",
       "      <th>balance</th>\n",
       "      <th>housing</th>\n",
       "      <th>loan</th>\n",
       "      <th>contact</th>\n",
       "      <th>day</th>\n",
       "      <th>month</th>\n",
       "      <th>duration</th>\n",
       "      <th>campaign</th>\n",
       "      <th>pdays</th>\n",
       "      <th>previous</th>\n",
       "      <th>poutcome</th>\n",
       "      <th>y</th>\n",
       "    </tr>\n",
       "  </thead>\n",
       "  <tbody>\n",
       "    <tr>\n",
       "      <th>count</th>\n",
       "      <td>4521.000000</td>\n",
       "      <td>4521.000000</td>\n",
       "      <td>4521.000000</td>\n",
       "      <td>4521.000000</td>\n",
       "      <td>4521.000000</td>\n",
       "      <td>4521.000000</td>\n",
       "      <td>4521.000000</td>\n",
       "      <td>4521.000000</td>\n",
       "      <td>4521.000000</td>\n",
       "      <td>4521.000000</td>\n",
       "      <td>4521.000000</td>\n",
       "      <td>4521.000000</td>\n",
       "      <td>4521.000000</td>\n",
       "      <td>4521.000000</td>\n",
       "      <td>4521.000000</td>\n",
       "      <td>4521.000000</td>\n",
       "      <td>4521.000000</td>\n",
       "    </tr>\n",
       "    <tr>\n",
       "      <th>mean</th>\n",
       "      <td>41.170095</td>\n",
       "      <td>4.411192</td>\n",
       "      <td>1.147755</td>\n",
       "      <td>1.231365</td>\n",
       "      <td>0.016810</td>\n",
       "      <td>1422.657819</td>\n",
       "      <td>0.566025</td>\n",
       "      <td>0.152842</td>\n",
       "      <td>0.652289</td>\n",
       "      <td>15.915284</td>\n",
       "      <td>5.540146</td>\n",
       "      <td>263.961292</td>\n",
       "      <td>2.793630</td>\n",
       "      <td>39.766645</td>\n",
       "      <td>0.542579</td>\n",
       "      <td>2.559168</td>\n",
       "      <td>0.115240</td>\n",
       "    </tr>\n",
       "    <tr>\n",
       "      <th>std</th>\n",
       "      <td>10.576211</td>\n",
       "      <td>3.255716</td>\n",
       "      <td>0.599650</td>\n",
       "      <td>0.748744</td>\n",
       "      <td>0.128575</td>\n",
       "      <td>3009.638142</td>\n",
       "      <td>0.495676</td>\n",
       "      <td>0.359875</td>\n",
       "      <td>0.901498</td>\n",
       "      <td>8.247667</td>\n",
       "      <td>3.002763</td>\n",
       "      <td>259.856633</td>\n",
       "      <td>3.109807</td>\n",
       "      <td>100.121124</td>\n",
       "      <td>1.693562</td>\n",
       "      <td>0.992051</td>\n",
       "      <td>0.319347</td>\n",
       "    </tr>\n",
       "    <tr>\n",
       "      <th>min</th>\n",
       "      <td>19.000000</td>\n",
       "      <td>0.000000</td>\n",
       "      <td>0.000000</td>\n",
       "      <td>0.000000</td>\n",
       "      <td>0.000000</td>\n",
       "      <td>-3313.000000</td>\n",
       "      <td>0.000000</td>\n",
       "      <td>0.000000</td>\n",
       "      <td>0.000000</td>\n",
       "      <td>1.000000</td>\n",
       "      <td>0.000000</td>\n",
       "      <td>4.000000</td>\n",
       "      <td>1.000000</td>\n",
       "      <td>-1.000000</td>\n",
       "      <td>0.000000</td>\n",
       "      <td>0.000000</td>\n",
       "      <td>0.000000</td>\n",
       "    </tr>\n",
       "    <tr>\n",
       "      <th>25%</th>\n",
       "      <td>33.000000</td>\n",
       "      <td>1.000000</td>\n",
       "      <td>1.000000</td>\n",
       "      <td>1.000000</td>\n",
       "      <td>0.000000</td>\n",
       "      <td>69.000000</td>\n",
       "      <td>0.000000</td>\n",
       "      <td>0.000000</td>\n",
       "      <td>0.000000</td>\n",
       "      <td>9.000000</td>\n",
       "      <td>3.000000</td>\n",
       "      <td>104.000000</td>\n",
       "      <td>1.000000</td>\n",
       "      <td>-1.000000</td>\n",
       "      <td>0.000000</td>\n",
       "      <td>3.000000</td>\n",
       "      <td>0.000000</td>\n",
       "    </tr>\n",
       "    <tr>\n",
       "      <th>50%</th>\n",
       "      <td>39.000000</td>\n",
       "      <td>4.000000</td>\n",
       "      <td>1.000000</td>\n",
       "      <td>1.000000</td>\n",
       "      <td>0.000000</td>\n",
       "      <td>444.000000</td>\n",
       "      <td>1.000000</td>\n",
       "      <td>0.000000</td>\n",
       "      <td>0.000000</td>\n",
       "      <td>16.000000</td>\n",
       "      <td>6.000000</td>\n",
       "      <td>185.000000</td>\n",
       "      <td>2.000000</td>\n",
       "      <td>-1.000000</td>\n",
       "      <td>0.000000</td>\n",
       "      <td>3.000000</td>\n",
       "      <td>0.000000</td>\n",
       "    </tr>\n",
       "    <tr>\n",
       "      <th>75%</th>\n",
       "      <td>49.000000</td>\n",
       "      <td>7.000000</td>\n",
       "      <td>2.000000</td>\n",
       "      <td>2.000000</td>\n",
       "      <td>0.000000</td>\n",
       "      <td>1480.000000</td>\n",
       "      <td>1.000000</td>\n",
       "      <td>0.000000</td>\n",
       "      <td>2.000000</td>\n",
       "      <td>21.000000</td>\n",
       "      <td>8.000000</td>\n",
       "      <td>329.000000</td>\n",
       "      <td>3.000000</td>\n",
       "      <td>-1.000000</td>\n",
       "      <td>0.000000</td>\n",
       "      <td>3.000000</td>\n",
       "      <td>0.000000</td>\n",
       "    </tr>\n",
       "    <tr>\n",
       "      <th>max</th>\n",
       "      <td>87.000000</td>\n",
       "      <td>11.000000</td>\n",
       "      <td>2.000000</td>\n",
       "      <td>3.000000</td>\n",
       "      <td>1.000000</td>\n",
       "      <td>71188.000000</td>\n",
       "      <td>1.000000</td>\n",
       "      <td>1.000000</td>\n",
       "      <td>2.000000</td>\n",
       "      <td>31.000000</td>\n",
       "      <td>11.000000</td>\n",
       "      <td>3025.000000</td>\n",
       "      <td>50.000000</td>\n",
       "      <td>871.000000</td>\n",
       "      <td>25.000000</td>\n",
       "      <td>3.000000</td>\n",
       "      <td>1.000000</td>\n",
       "    </tr>\n",
       "  </tbody>\n",
       "</table>\n",
       "</div>"
      ],
      "text/plain": [
       "               age          job      marital    education      default  \\\n",
       "count  4521.000000  4521.000000  4521.000000  4521.000000  4521.000000   \n",
       "mean     41.170095     4.411192     1.147755     1.231365     0.016810   \n",
       "std      10.576211     3.255716     0.599650     0.748744     0.128575   \n",
       "min      19.000000     0.000000     0.000000     0.000000     0.000000   \n",
       "25%      33.000000     1.000000     1.000000     1.000000     0.000000   \n",
       "50%      39.000000     4.000000     1.000000     1.000000     0.000000   \n",
       "75%      49.000000     7.000000     2.000000     2.000000     0.000000   \n",
       "max      87.000000    11.000000     2.000000     3.000000     1.000000   \n",
       "\n",
       "            balance      housing         loan      contact          day  \\\n",
       "count   4521.000000  4521.000000  4521.000000  4521.000000  4521.000000   \n",
       "mean    1422.657819     0.566025     0.152842     0.652289    15.915284   \n",
       "std     3009.638142     0.495676     0.359875     0.901498     8.247667   \n",
       "min    -3313.000000     0.000000     0.000000     0.000000     1.000000   \n",
       "25%       69.000000     0.000000     0.000000     0.000000     9.000000   \n",
       "50%      444.000000     1.000000     0.000000     0.000000    16.000000   \n",
       "75%     1480.000000     1.000000     0.000000     2.000000    21.000000   \n",
       "max    71188.000000     1.000000     1.000000     2.000000    31.000000   \n",
       "\n",
       "             month     duration     campaign        pdays     previous  \\\n",
       "count  4521.000000  4521.000000  4521.000000  4521.000000  4521.000000   \n",
       "mean      5.540146   263.961292     2.793630    39.766645     0.542579   \n",
       "std       3.002763   259.856633     3.109807   100.121124     1.693562   \n",
       "min       0.000000     4.000000     1.000000    -1.000000     0.000000   \n",
       "25%       3.000000   104.000000     1.000000    -1.000000     0.000000   \n",
       "50%       6.000000   185.000000     2.000000    -1.000000     0.000000   \n",
       "75%       8.000000   329.000000     3.000000    -1.000000     0.000000   \n",
       "max      11.000000  3025.000000    50.000000   871.000000    25.000000   \n",
       "\n",
       "          poutcome            y  \n",
       "count  4521.000000  4521.000000  \n",
       "mean      2.559168     0.115240  \n",
       "std       0.992051     0.319347  \n",
       "min       0.000000     0.000000  \n",
       "25%       3.000000     0.000000  \n",
       "50%       3.000000     0.000000  \n",
       "75%       3.000000     0.000000  \n",
       "max       3.000000     1.000000  "
      ]
     },
     "execution_count": 25,
     "metadata": {},
     "output_type": "execute_result"
    }
   ],
   "source": [
    "df_homo.describe()"
   ]
  },
  {
   "cell_type": "markdown",
   "id": "8e905468-25ac-4c79-80e2-42a89efe8e74",
   "metadata": {},
   "source": [
    "Dado que la mayoria de variables posee valores minimos y maximos vamos a normalizar la base de datos con el metodo *MinMaxScaler()* y se aplica sobre las variables del data set homogeneizado."
   ]
  },
  {
   "cell_type": "code",
   "execution_count": 26,
   "id": "96a0951d",
   "metadata": {},
   "outputs": [
    {
     "data": {
      "text/html": [
       "<div>\n",
       "<style scoped>\n",
       "    .dataframe tbody tr th:only-of-type {\n",
       "        vertical-align: middle;\n",
       "    }\n",
       "\n",
       "    .dataframe tbody tr th {\n",
       "        vertical-align: top;\n",
       "    }\n",
       "\n",
       "    .dataframe thead th {\n",
       "        text-align: right;\n",
       "    }\n",
       "</style>\n",
       "<table border=\"1\" class=\"dataframe\">\n",
       "  <thead>\n",
       "    <tr style=\"text-align: right;\">\n",
       "      <th></th>\n",
       "      <th>age</th>\n",
       "      <th>job</th>\n",
       "      <th>marital</th>\n",
       "      <th>education</th>\n",
       "      <th>default</th>\n",
       "      <th>balance</th>\n",
       "      <th>housing</th>\n",
       "      <th>loan</th>\n",
       "      <th>contact</th>\n",
       "      <th>day</th>\n",
       "      <th>month</th>\n",
       "      <th>duration</th>\n",
       "      <th>campaign</th>\n",
       "      <th>pdays</th>\n",
       "      <th>previous</th>\n",
       "      <th>poutcome</th>\n",
       "      <th>y</th>\n",
       "    </tr>\n",
       "  </thead>\n",
       "  <tbody>\n",
       "    <tr>\n",
       "      <th>0</th>\n",
       "      <td>0.161765</td>\n",
       "      <td>0.909091</td>\n",
       "      <td>0.5</td>\n",
       "      <td>0.000000</td>\n",
       "      <td>0.0</td>\n",
       "      <td>0.068455</td>\n",
       "      <td>0.0</td>\n",
       "      <td>0.0</td>\n",
       "      <td>0.0</td>\n",
       "      <td>0.600000</td>\n",
       "      <td>0.909091</td>\n",
       "      <td>0.024826</td>\n",
       "      <td>0.000000</td>\n",
       "      <td>0.000000</td>\n",
       "      <td>0.00</td>\n",
       "      <td>1.000000</td>\n",
       "      <td>0.0</td>\n",
       "    </tr>\n",
       "    <tr>\n",
       "      <th>1</th>\n",
       "      <td>0.205882</td>\n",
       "      <td>0.636364</td>\n",
       "      <td>0.5</td>\n",
       "      <td>0.333333</td>\n",
       "      <td>0.0</td>\n",
       "      <td>0.108750</td>\n",
       "      <td>1.0</td>\n",
       "      <td>1.0</td>\n",
       "      <td>0.0</td>\n",
       "      <td>0.333333</td>\n",
       "      <td>0.727273</td>\n",
       "      <td>0.071500</td>\n",
       "      <td>0.000000</td>\n",
       "      <td>0.389908</td>\n",
       "      <td>0.16</td>\n",
       "      <td>0.000000</td>\n",
       "      <td>0.0</td>\n",
       "    </tr>\n",
       "    <tr>\n",
       "      <th>2</th>\n",
       "      <td>0.235294</td>\n",
       "      <td>0.363636</td>\n",
       "      <td>1.0</td>\n",
       "      <td>0.666667</td>\n",
       "      <td>0.0</td>\n",
       "      <td>0.062590</td>\n",
       "      <td>1.0</td>\n",
       "      <td>0.0</td>\n",
       "      <td>0.0</td>\n",
       "      <td>0.500000</td>\n",
       "      <td>0.000000</td>\n",
       "      <td>0.059914</td>\n",
       "      <td>0.000000</td>\n",
       "      <td>0.379587</td>\n",
       "      <td>0.04</td>\n",
       "      <td>0.000000</td>\n",
       "      <td>0.0</td>\n",
       "    </tr>\n",
       "    <tr>\n",
       "      <th>3</th>\n",
       "      <td>0.161765</td>\n",
       "      <td>0.363636</td>\n",
       "      <td>0.5</td>\n",
       "      <td>0.666667</td>\n",
       "      <td>0.0</td>\n",
       "      <td>0.064281</td>\n",
       "      <td>1.0</td>\n",
       "      <td>1.0</td>\n",
       "      <td>1.0</td>\n",
       "      <td>0.066667</td>\n",
       "      <td>0.545455</td>\n",
       "      <td>0.064548</td>\n",
       "      <td>0.061224</td>\n",
       "      <td>0.000000</td>\n",
       "      <td>0.00</td>\n",
       "      <td>1.000000</td>\n",
       "      <td>0.0</td>\n",
       "    </tr>\n",
       "    <tr>\n",
       "      <th>4</th>\n",
       "      <td>0.588235</td>\n",
       "      <td>0.090909</td>\n",
       "      <td>0.5</td>\n",
       "      <td>0.333333</td>\n",
       "      <td>0.0</td>\n",
       "      <td>0.044469</td>\n",
       "      <td>1.0</td>\n",
       "      <td>0.0</td>\n",
       "      <td>1.0</td>\n",
       "      <td>0.133333</td>\n",
       "      <td>0.727273</td>\n",
       "      <td>0.073486</td>\n",
       "      <td>0.000000</td>\n",
       "      <td>0.000000</td>\n",
       "      <td>0.00</td>\n",
       "      <td>1.000000</td>\n",
       "      <td>0.0</td>\n",
       "    </tr>\n",
       "    <tr>\n",
       "      <th>...</th>\n",
       "      <td>...</td>\n",
       "      <td>...</td>\n",
       "      <td>...</td>\n",
       "      <td>...</td>\n",
       "      <td>...</td>\n",
       "      <td>...</td>\n",
       "      <td>...</td>\n",
       "      <td>...</td>\n",
       "      <td>...</td>\n",
       "      <td>...</td>\n",
       "      <td>...</td>\n",
       "      <td>...</td>\n",
       "      <td>...</td>\n",
       "      <td>...</td>\n",
       "      <td>...</td>\n",
       "      <td>...</td>\n",
       "      <td>...</td>\n",
       "    </tr>\n",
       "    <tr>\n",
       "      <th>4516</th>\n",
       "      <td>0.205882</td>\n",
       "      <td>0.636364</td>\n",
       "      <td>0.5</td>\n",
       "      <td>0.333333</td>\n",
       "      <td>0.0</td>\n",
       "      <td>0.039999</td>\n",
       "      <td>1.0</td>\n",
       "      <td>0.0</td>\n",
       "      <td>0.0</td>\n",
       "      <td>0.966667</td>\n",
       "      <td>0.454545</td>\n",
       "      <td>0.107580</td>\n",
       "      <td>0.081633</td>\n",
       "      <td>0.000000</td>\n",
       "      <td>0.00</td>\n",
       "      <td>1.000000</td>\n",
       "      <td>0.0</td>\n",
       "    </tr>\n",
       "    <tr>\n",
       "      <th>4517</th>\n",
       "      <td>0.558824</td>\n",
       "      <td>0.545455</td>\n",
       "      <td>0.5</td>\n",
       "      <td>0.666667</td>\n",
       "      <td>1.0</td>\n",
       "      <td>0.000000</td>\n",
       "      <td>1.0</td>\n",
       "      <td>1.0</td>\n",
       "      <td>1.0</td>\n",
       "      <td>0.266667</td>\n",
       "      <td>0.727273</td>\n",
       "      <td>0.049321</td>\n",
       "      <td>0.000000</td>\n",
       "      <td>0.000000</td>\n",
       "      <td>0.00</td>\n",
       "      <td>1.000000</td>\n",
       "      <td>0.0</td>\n",
       "    </tr>\n",
       "    <tr>\n",
       "      <th>4518</th>\n",
       "      <td>0.558824</td>\n",
       "      <td>0.818182</td>\n",
       "      <td>0.5</td>\n",
       "      <td>0.333333</td>\n",
       "      <td>0.0</td>\n",
       "      <td>0.048429</td>\n",
       "      <td>0.0</td>\n",
       "      <td>0.0</td>\n",
       "      <td>0.0</td>\n",
       "      <td>0.600000</td>\n",
       "      <td>0.090909</td>\n",
       "      <td>0.048659</td>\n",
       "      <td>0.204082</td>\n",
       "      <td>0.000000</td>\n",
       "      <td>0.00</td>\n",
       "      <td>1.000000</td>\n",
       "      <td>0.0</td>\n",
       "    </tr>\n",
       "    <tr>\n",
       "      <th>4519</th>\n",
       "      <td>0.132353</td>\n",
       "      <td>0.090909</td>\n",
       "      <td>0.5</td>\n",
       "      <td>0.333333</td>\n",
       "      <td>0.0</td>\n",
       "      <td>0.059731</td>\n",
       "      <td>0.0</td>\n",
       "      <td>0.0</td>\n",
       "      <td>0.0</td>\n",
       "      <td>0.166667</td>\n",
       "      <td>0.272727</td>\n",
       "      <td>0.041377</td>\n",
       "      <td>0.061224</td>\n",
       "      <td>0.243119</td>\n",
       "      <td>0.12</td>\n",
       "      <td>0.333333</td>\n",
       "      <td>0.0</td>\n",
       "    </tr>\n",
       "    <tr>\n",
       "      <th>4520</th>\n",
       "      <td>0.367647</td>\n",
       "      <td>0.181818</td>\n",
       "      <td>1.0</td>\n",
       "      <td>0.666667</td>\n",
       "      <td>0.0</td>\n",
       "      <td>0.059717</td>\n",
       "      <td>1.0</td>\n",
       "      <td>1.0</td>\n",
       "      <td>0.0</td>\n",
       "      <td>0.066667</td>\n",
       "      <td>0.000000</td>\n",
       "      <td>0.112877</td>\n",
       "      <td>0.020408</td>\n",
       "      <td>0.286697</td>\n",
       "      <td>0.28</td>\n",
       "      <td>0.333333</td>\n",
       "      <td>0.0</td>\n",
       "    </tr>\n",
       "  </tbody>\n",
       "</table>\n",
       "<p>4521 rows × 17 columns</p>\n",
       "</div>"
      ],
      "text/plain": [
       "           age       job  marital  education  default   balance  housing  \\\n",
       "0     0.161765  0.909091      0.5   0.000000      0.0  0.068455      0.0   \n",
       "1     0.205882  0.636364      0.5   0.333333      0.0  0.108750      1.0   \n",
       "2     0.235294  0.363636      1.0   0.666667      0.0  0.062590      1.0   \n",
       "3     0.161765  0.363636      0.5   0.666667      0.0  0.064281      1.0   \n",
       "4     0.588235  0.090909      0.5   0.333333      0.0  0.044469      1.0   \n",
       "...        ...       ...      ...        ...      ...       ...      ...   \n",
       "4516  0.205882  0.636364      0.5   0.333333      0.0  0.039999      1.0   \n",
       "4517  0.558824  0.545455      0.5   0.666667      1.0  0.000000      1.0   \n",
       "4518  0.558824  0.818182      0.5   0.333333      0.0  0.048429      0.0   \n",
       "4519  0.132353  0.090909      0.5   0.333333      0.0  0.059731      0.0   \n",
       "4520  0.367647  0.181818      1.0   0.666667      0.0  0.059717      1.0   \n",
       "\n",
       "      loan  contact       day     month  duration  campaign     pdays  \\\n",
       "0      0.0      0.0  0.600000  0.909091  0.024826  0.000000  0.000000   \n",
       "1      1.0      0.0  0.333333  0.727273  0.071500  0.000000  0.389908   \n",
       "2      0.0      0.0  0.500000  0.000000  0.059914  0.000000  0.379587   \n",
       "3      1.0      1.0  0.066667  0.545455  0.064548  0.061224  0.000000   \n",
       "4      0.0      1.0  0.133333  0.727273  0.073486  0.000000  0.000000   \n",
       "...    ...      ...       ...       ...       ...       ...       ...   \n",
       "4516   0.0      0.0  0.966667  0.454545  0.107580  0.081633  0.000000   \n",
       "4517   1.0      1.0  0.266667  0.727273  0.049321  0.000000  0.000000   \n",
       "4518   0.0      0.0  0.600000  0.090909  0.048659  0.204082  0.000000   \n",
       "4519   0.0      0.0  0.166667  0.272727  0.041377  0.061224  0.243119   \n",
       "4520   1.0      0.0  0.066667  0.000000  0.112877  0.020408  0.286697   \n",
       "\n",
       "      previous  poutcome    y  \n",
       "0         0.00  1.000000  0.0  \n",
       "1         0.16  0.000000  0.0  \n",
       "2         0.04  0.000000  0.0  \n",
       "3         0.00  1.000000  0.0  \n",
       "4         0.00  1.000000  0.0  \n",
       "...        ...       ...  ...  \n",
       "4516      0.00  1.000000  0.0  \n",
       "4517      0.00  1.000000  0.0  \n",
       "4518      0.00  1.000000  0.0  \n",
       "4519      0.12  0.333333  0.0  \n",
       "4520      0.28  0.333333  0.0  \n",
       "\n",
       "[4521 rows x 17 columns]"
      ]
     },
     "execution_count": 26,
     "metadata": {},
     "output_type": "execute_result"
    }
   ],
   "source": [
    "scaler = MinMaxScaler()\n",
    "df_scaler = scaler.fit_transform(df_homo)\n",
    "df_final = pd.DataFrame(data = df_scaler, columns = df_homo.columns)\n",
    "df_final"
   ]
  },
  {
   "cell_type": "markdown",
   "id": "ac6f2e9f",
   "metadata": {},
   "source": [
    "## 5.- Definir algoritmo KNN con tres set de hiperparámetros diferentes (se debe escoger diferentes valores de hiperparámetros)\n",
    "\n",
    "1.- Definir algoritmo con sus hiperparámetros.\n",
    "\n",
    "2.- Entrenar el algoritmo.\n",
    "\n",
    "3.- Testear el algoritmo.\n",
    "\n",
    "## Explicar las decisiones tomadas y los pasos realizados (25 ptos.):\n",
    "\n",
    "\n",
    "Apoyarse en la documentación de Scikit-Learn para KNN https://scikit-learn.org/stable/modules/generated/sklearn.neighbors.KNeighborsClassifier.html#examples-using-sklearn-neighbors-kneighborsclassifier"
   ]
  },
  {
   "cell_type": "markdown",
   "id": "565d90c6",
   "metadata": {},
   "source": [
    "Respuesta:\n",
    "---\n",
    "    \n",
    "    \n",
    "Antes de empezar a trabajar con los algoritmos, vamos a definir la variables objetivo como la columna *y*  de nuestra base de datos y las demas seran los datos para realizar la prediccion. Ademas mediente la funcion *train_test_split()* vamos a separar el total de cada variable en un 70% para entrar el algoritmo y el 30% restante para comprobar la precisión del mismo."
   ]
  },
  {
   "cell_type": "code",
   "execution_count": 27,
   "id": "41923bb6-1df1-4d94-95ce-bc7a3324d8fc",
   "metadata": {},
   "outputs": [],
   "source": [
    "x = df_final.iloc[: , 0:16].values\n",
    "y = df_final['y']\n",
    "\n",
    "X_train, X_test, y_train, y_test = train_test_split(x, y, test_size = 0.3)"
   ]
  },
  {
   "cell_type": "markdown",
   "id": "f6f7a02a-ccba-43c0-98e0-12fae9862995",
   "metadata": {},
   "source": [
    "Empezamos definiendo el algoritmo KNN con un total de 3 de vecinos a una distancia euclideana y con el parametro *kd_tree* que utiliza un arbol para organizar los datos. Fijados los parametros pasamos a entrar el algoritmo."
   ]
  },
  {
   "cell_type": "code",
   "execution_count": 28,
   "id": "38dd4287",
   "metadata": {},
   "outputs": [
    {
     "data": {
      "text/html": [
       "<style>#sk-container-id-1 {color: black;}#sk-container-id-1 pre{padding: 0;}#sk-container-id-1 div.sk-toggleable {background-color: white;}#sk-container-id-1 label.sk-toggleable__label {cursor: pointer;display: block;width: 100%;margin-bottom: 0;padding: 0.3em;box-sizing: border-box;text-align: center;}#sk-container-id-1 label.sk-toggleable__label-arrow:before {content: \"▸\";float: left;margin-right: 0.25em;color: #696969;}#sk-container-id-1 label.sk-toggleable__label-arrow:hover:before {color: black;}#sk-container-id-1 div.sk-estimator:hover label.sk-toggleable__label-arrow:before {color: black;}#sk-container-id-1 div.sk-toggleable__content {max-height: 0;max-width: 0;overflow: hidden;text-align: left;background-color: #f0f8ff;}#sk-container-id-1 div.sk-toggleable__content pre {margin: 0.2em;color: black;border-radius: 0.25em;background-color: #f0f8ff;}#sk-container-id-1 input.sk-toggleable__control:checked~div.sk-toggleable__content {max-height: 200px;max-width: 100%;overflow: auto;}#sk-container-id-1 input.sk-toggleable__control:checked~label.sk-toggleable__label-arrow:before {content: \"▾\";}#sk-container-id-1 div.sk-estimator input.sk-toggleable__control:checked~label.sk-toggleable__label {background-color: #d4ebff;}#sk-container-id-1 div.sk-label input.sk-toggleable__control:checked~label.sk-toggleable__label {background-color: #d4ebff;}#sk-container-id-1 input.sk-hidden--visually {border: 0;clip: rect(1px 1px 1px 1px);clip: rect(1px, 1px, 1px, 1px);height: 1px;margin: -1px;overflow: hidden;padding: 0;position: absolute;width: 1px;}#sk-container-id-1 div.sk-estimator {font-family: monospace;background-color: #f0f8ff;border: 1px dotted black;border-radius: 0.25em;box-sizing: border-box;margin-bottom: 0.5em;}#sk-container-id-1 div.sk-estimator:hover {background-color: #d4ebff;}#sk-container-id-1 div.sk-parallel-item::after {content: \"\";width: 100%;border-bottom: 1px solid gray;flex-grow: 1;}#sk-container-id-1 div.sk-label:hover label.sk-toggleable__label {background-color: #d4ebff;}#sk-container-id-1 div.sk-serial::before {content: \"\";position: absolute;border-left: 1px solid gray;box-sizing: border-box;top: 0;bottom: 0;left: 50%;z-index: 0;}#sk-container-id-1 div.sk-serial {display: flex;flex-direction: column;align-items: center;background-color: white;padding-right: 0.2em;padding-left: 0.2em;position: relative;}#sk-container-id-1 div.sk-item {position: relative;z-index: 1;}#sk-container-id-1 div.sk-parallel {display: flex;align-items: stretch;justify-content: center;background-color: white;position: relative;}#sk-container-id-1 div.sk-item::before, #sk-container-id-1 div.sk-parallel-item::before {content: \"\";position: absolute;border-left: 1px solid gray;box-sizing: border-box;top: 0;bottom: 0;left: 50%;z-index: -1;}#sk-container-id-1 div.sk-parallel-item {display: flex;flex-direction: column;z-index: 1;position: relative;background-color: white;}#sk-container-id-1 div.sk-parallel-item:first-child::after {align-self: flex-end;width: 50%;}#sk-container-id-1 div.sk-parallel-item:last-child::after {align-self: flex-start;width: 50%;}#sk-container-id-1 div.sk-parallel-item:only-child::after {width: 0;}#sk-container-id-1 div.sk-dashed-wrapped {border: 1px dashed gray;margin: 0 0.4em 0.5em 0.4em;box-sizing: border-box;padding-bottom: 0.4em;background-color: white;}#sk-container-id-1 div.sk-label label {font-family: monospace;font-weight: bold;display: inline-block;line-height: 1.2em;}#sk-container-id-1 div.sk-label-container {text-align: center;}#sk-container-id-1 div.sk-container {/* jupyter's `normalize.less` sets `[hidden] { display: none; }` but bootstrap.min.css set `[hidden] { display: none !important; }` so we also need the `!important` here to be able to override the default hidden behavior on the sphinx rendered scikit-learn.org. See: https://github.com/scikit-learn/scikit-learn/issues/21755 */display: inline-block !important;position: relative;}#sk-container-id-1 div.sk-text-repr-fallback {display: none;}</style><div id=\"sk-container-id-1\" class=\"sk-top-container\"><div class=\"sk-text-repr-fallback\"><pre>KNeighborsClassifier(algorithm=&#x27;kd_tree&#x27;, metric=&#x27;euclidean&#x27;, n_neighbors=3)</pre><b>In a Jupyter environment, please rerun this cell to show the HTML representation or trust the notebook. <br />On GitHub, the HTML representation is unable to render, please try loading this page with nbviewer.org.</b></div><div class=\"sk-container\" hidden><div class=\"sk-item\"><div class=\"sk-estimator sk-toggleable\"><input class=\"sk-toggleable__control sk-hidden--visually\" id=\"sk-estimator-id-1\" type=\"checkbox\" checked><label for=\"sk-estimator-id-1\" class=\"sk-toggleable__label sk-toggleable__label-arrow\">KNeighborsClassifier</label><div class=\"sk-toggleable__content\"><pre>KNeighborsClassifier(algorithm=&#x27;kd_tree&#x27;, metric=&#x27;euclidean&#x27;, n_neighbors=3)</pre></div></div></div></div></div>"
      ],
      "text/plain": [
       "KNeighborsClassifier(algorithm='kd_tree', metric='euclidean', n_neighbors=3)"
      ]
     },
     "execution_count": 28,
     "metadata": {},
     "output_type": "execute_result"
    }
   ],
   "source": [
    "classifier_0 = KNeighborsClassifier(n_neighbors= 3, algorithm = 'kd_tree', metric = 'euclidean')\n",
    "classifier_0.fit(X_train, y_train)"
   ]
  },
  {
   "cell_type": "markdown",
   "id": "82157e53-2bf2-4254-ae66-e913a11d4859",
   "metadata": {},
   "source": [
    "Ahora con el metodo *predict()* se determinar las predicciones del modelo y con el comando *accuracy_score* se hace la comparación los datos reales para ver que tal fue nuestra predicción."
   ]
  },
  {
   "cell_type": "code",
   "execution_count": 37,
   "id": "fab2647c-e499-4e11-9184-bb58a8597d1b",
   "metadata": {},
   "outputs": [
    {
     "name": "stdout",
     "output_type": "stream",
     "text": [
      "La precisión es de : 88.28%\n"
     ]
    }
   ],
   "source": [
    "y_pred_0 = classifier_0.predict(X_test)\n",
    "accuracy_0 = accuracy_score(y_test, y_pred_0)\n",
    "print(f'La precisión es de : {accuracy_0 * 100:.2f}%')"
   ]
  },
  {
   "cell_type": "markdown",
   "id": "a0b380dc-2cdc-4753-addc-b6488b8f21a0",
   "metadata": {},
   "source": [
    "Con este primer resultado, vamos a modificar los parametros del algoritmo aumentando el numero de vecinos a 4, una organizacion de datos tipo *ball_tree* y\n",
    "una distancia del tipo manhattan."
   ]
  },
  {
   "cell_type": "code",
   "execution_count": 33,
   "id": "ec7276ce-8375-4907-b3a2-b1b88221bfac",
   "metadata": {},
   "outputs": [
    {
     "data": {
      "text/html": [
       "<style>#sk-container-id-2 {color: black;}#sk-container-id-2 pre{padding: 0;}#sk-container-id-2 div.sk-toggleable {background-color: white;}#sk-container-id-2 label.sk-toggleable__label {cursor: pointer;display: block;width: 100%;margin-bottom: 0;padding: 0.3em;box-sizing: border-box;text-align: center;}#sk-container-id-2 label.sk-toggleable__label-arrow:before {content: \"▸\";float: left;margin-right: 0.25em;color: #696969;}#sk-container-id-2 label.sk-toggleable__label-arrow:hover:before {color: black;}#sk-container-id-2 div.sk-estimator:hover label.sk-toggleable__label-arrow:before {color: black;}#sk-container-id-2 div.sk-toggleable__content {max-height: 0;max-width: 0;overflow: hidden;text-align: left;background-color: #f0f8ff;}#sk-container-id-2 div.sk-toggleable__content pre {margin: 0.2em;color: black;border-radius: 0.25em;background-color: #f0f8ff;}#sk-container-id-2 input.sk-toggleable__control:checked~div.sk-toggleable__content {max-height: 200px;max-width: 100%;overflow: auto;}#sk-container-id-2 input.sk-toggleable__control:checked~label.sk-toggleable__label-arrow:before {content: \"▾\";}#sk-container-id-2 div.sk-estimator input.sk-toggleable__control:checked~label.sk-toggleable__label {background-color: #d4ebff;}#sk-container-id-2 div.sk-label input.sk-toggleable__control:checked~label.sk-toggleable__label {background-color: #d4ebff;}#sk-container-id-2 input.sk-hidden--visually {border: 0;clip: rect(1px 1px 1px 1px);clip: rect(1px, 1px, 1px, 1px);height: 1px;margin: -1px;overflow: hidden;padding: 0;position: absolute;width: 1px;}#sk-container-id-2 div.sk-estimator {font-family: monospace;background-color: #f0f8ff;border: 1px dotted black;border-radius: 0.25em;box-sizing: border-box;margin-bottom: 0.5em;}#sk-container-id-2 div.sk-estimator:hover {background-color: #d4ebff;}#sk-container-id-2 div.sk-parallel-item::after {content: \"\";width: 100%;border-bottom: 1px solid gray;flex-grow: 1;}#sk-container-id-2 div.sk-label:hover label.sk-toggleable__label {background-color: #d4ebff;}#sk-container-id-2 div.sk-serial::before {content: \"\";position: absolute;border-left: 1px solid gray;box-sizing: border-box;top: 0;bottom: 0;left: 50%;z-index: 0;}#sk-container-id-2 div.sk-serial {display: flex;flex-direction: column;align-items: center;background-color: white;padding-right: 0.2em;padding-left: 0.2em;position: relative;}#sk-container-id-2 div.sk-item {position: relative;z-index: 1;}#sk-container-id-2 div.sk-parallel {display: flex;align-items: stretch;justify-content: center;background-color: white;position: relative;}#sk-container-id-2 div.sk-item::before, #sk-container-id-2 div.sk-parallel-item::before {content: \"\";position: absolute;border-left: 1px solid gray;box-sizing: border-box;top: 0;bottom: 0;left: 50%;z-index: -1;}#sk-container-id-2 div.sk-parallel-item {display: flex;flex-direction: column;z-index: 1;position: relative;background-color: white;}#sk-container-id-2 div.sk-parallel-item:first-child::after {align-self: flex-end;width: 50%;}#sk-container-id-2 div.sk-parallel-item:last-child::after {align-self: flex-start;width: 50%;}#sk-container-id-2 div.sk-parallel-item:only-child::after {width: 0;}#sk-container-id-2 div.sk-dashed-wrapped {border: 1px dashed gray;margin: 0 0.4em 0.5em 0.4em;box-sizing: border-box;padding-bottom: 0.4em;background-color: white;}#sk-container-id-2 div.sk-label label {font-family: monospace;font-weight: bold;display: inline-block;line-height: 1.2em;}#sk-container-id-2 div.sk-label-container {text-align: center;}#sk-container-id-2 div.sk-container {/* jupyter's `normalize.less` sets `[hidden] { display: none; }` but bootstrap.min.css set `[hidden] { display: none !important; }` so we also need the `!important` here to be able to override the default hidden behavior on the sphinx rendered scikit-learn.org. See: https://github.com/scikit-learn/scikit-learn/issues/21755 */display: inline-block !important;position: relative;}#sk-container-id-2 div.sk-text-repr-fallback {display: none;}</style><div id=\"sk-container-id-2\" class=\"sk-top-container\"><div class=\"sk-text-repr-fallback\"><pre>KNeighborsClassifier(algorithm=&#x27;ball_tree&#x27;, metric=&#x27;manhattan&#x27;, n_neighbors=4)</pre><b>In a Jupyter environment, please rerun this cell to show the HTML representation or trust the notebook. <br />On GitHub, the HTML representation is unable to render, please try loading this page with nbviewer.org.</b></div><div class=\"sk-container\" hidden><div class=\"sk-item\"><div class=\"sk-estimator sk-toggleable\"><input class=\"sk-toggleable__control sk-hidden--visually\" id=\"sk-estimator-id-2\" type=\"checkbox\" checked><label for=\"sk-estimator-id-2\" class=\"sk-toggleable__label sk-toggleable__label-arrow\">KNeighborsClassifier</label><div class=\"sk-toggleable__content\"><pre>KNeighborsClassifier(algorithm=&#x27;ball_tree&#x27;, metric=&#x27;manhattan&#x27;, n_neighbors=4)</pre></div></div></div></div></div>"
      ],
      "text/plain": [
       "KNeighborsClassifier(algorithm='ball_tree', metric='manhattan', n_neighbors=4)"
      ]
     },
     "execution_count": 33,
     "metadata": {},
     "output_type": "execute_result"
    }
   ],
   "source": [
    "classifier_1 = KNeighborsClassifier(n_neighbors= 4, algorithm = 'ball_tree', metric = 'manhattan')\n",
    "classifier_1.fit(X_train, y_train)"
   ]
  },
  {
   "cell_type": "markdown",
   "id": "ca6d1b7f-7b55-4e51-b6a1-914b7f6a09db",
   "metadata": {},
   "source": [
    "Repetimos el procedimiento para comprobar la prediccion del modelo con estos nuevos parametros."
   ]
  },
  {
   "cell_type": "code",
   "execution_count": 38,
   "id": "a1be196a-b067-4d7a-a9ef-a86567be707a",
   "metadata": {},
   "outputs": [
    {
     "name": "stdout",
     "output_type": "stream",
     "text": [
      "La precisión es de : 88.95%\n"
     ]
    }
   ],
   "source": [
    "y_pred_1 = classifier_1.predict(X_test)\n",
    "accuracy_1 = accuracy_score(y_test, y_pred_1)\n",
    "print(f'La precisión es de : {accuracy_1 * 100:.2f}%')"
   ]
  },
  {
   "cell_type": "markdown",
   "id": "bb0bae6f-ae2b-4c61-b849-fa9e6558eb8f",
   "metadata": {},
   "source": [
    "Pues con estos parametros hemos tenido un aumento aproximado del 0.6% en la precisión. Finalmente, tomando ahora 5 vecinos, dado al algoritmo la opcion de elegir que metodo de organización es mejor con el parametro *auto* y con la distancia de tipo minkowski que es mas generalizada que la euclideana. "
   ]
  },
  {
   "cell_type": "code",
   "execution_count": 35,
   "id": "29fa7c3e-db2a-4156-972d-d6097d279704",
   "metadata": {},
   "outputs": [
    {
     "data": {
      "text/html": [
       "<style>#sk-container-id-3 {color: black;}#sk-container-id-3 pre{padding: 0;}#sk-container-id-3 div.sk-toggleable {background-color: white;}#sk-container-id-3 label.sk-toggleable__label {cursor: pointer;display: block;width: 100%;margin-bottom: 0;padding: 0.3em;box-sizing: border-box;text-align: center;}#sk-container-id-3 label.sk-toggleable__label-arrow:before {content: \"▸\";float: left;margin-right: 0.25em;color: #696969;}#sk-container-id-3 label.sk-toggleable__label-arrow:hover:before {color: black;}#sk-container-id-3 div.sk-estimator:hover label.sk-toggleable__label-arrow:before {color: black;}#sk-container-id-3 div.sk-toggleable__content {max-height: 0;max-width: 0;overflow: hidden;text-align: left;background-color: #f0f8ff;}#sk-container-id-3 div.sk-toggleable__content pre {margin: 0.2em;color: black;border-radius: 0.25em;background-color: #f0f8ff;}#sk-container-id-3 input.sk-toggleable__control:checked~div.sk-toggleable__content {max-height: 200px;max-width: 100%;overflow: auto;}#sk-container-id-3 input.sk-toggleable__control:checked~label.sk-toggleable__label-arrow:before {content: \"▾\";}#sk-container-id-3 div.sk-estimator input.sk-toggleable__control:checked~label.sk-toggleable__label {background-color: #d4ebff;}#sk-container-id-3 div.sk-label input.sk-toggleable__control:checked~label.sk-toggleable__label {background-color: #d4ebff;}#sk-container-id-3 input.sk-hidden--visually {border: 0;clip: rect(1px 1px 1px 1px);clip: rect(1px, 1px, 1px, 1px);height: 1px;margin: -1px;overflow: hidden;padding: 0;position: absolute;width: 1px;}#sk-container-id-3 div.sk-estimator {font-family: monospace;background-color: #f0f8ff;border: 1px dotted black;border-radius: 0.25em;box-sizing: border-box;margin-bottom: 0.5em;}#sk-container-id-3 div.sk-estimator:hover {background-color: #d4ebff;}#sk-container-id-3 div.sk-parallel-item::after {content: \"\";width: 100%;border-bottom: 1px solid gray;flex-grow: 1;}#sk-container-id-3 div.sk-label:hover label.sk-toggleable__label {background-color: #d4ebff;}#sk-container-id-3 div.sk-serial::before {content: \"\";position: absolute;border-left: 1px solid gray;box-sizing: border-box;top: 0;bottom: 0;left: 50%;z-index: 0;}#sk-container-id-3 div.sk-serial {display: flex;flex-direction: column;align-items: center;background-color: white;padding-right: 0.2em;padding-left: 0.2em;position: relative;}#sk-container-id-3 div.sk-item {position: relative;z-index: 1;}#sk-container-id-3 div.sk-parallel {display: flex;align-items: stretch;justify-content: center;background-color: white;position: relative;}#sk-container-id-3 div.sk-item::before, #sk-container-id-3 div.sk-parallel-item::before {content: \"\";position: absolute;border-left: 1px solid gray;box-sizing: border-box;top: 0;bottom: 0;left: 50%;z-index: -1;}#sk-container-id-3 div.sk-parallel-item {display: flex;flex-direction: column;z-index: 1;position: relative;background-color: white;}#sk-container-id-3 div.sk-parallel-item:first-child::after {align-self: flex-end;width: 50%;}#sk-container-id-3 div.sk-parallel-item:last-child::after {align-self: flex-start;width: 50%;}#sk-container-id-3 div.sk-parallel-item:only-child::after {width: 0;}#sk-container-id-3 div.sk-dashed-wrapped {border: 1px dashed gray;margin: 0 0.4em 0.5em 0.4em;box-sizing: border-box;padding-bottom: 0.4em;background-color: white;}#sk-container-id-3 div.sk-label label {font-family: monospace;font-weight: bold;display: inline-block;line-height: 1.2em;}#sk-container-id-3 div.sk-label-container {text-align: center;}#sk-container-id-3 div.sk-container {/* jupyter's `normalize.less` sets `[hidden] { display: none; }` but bootstrap.min.css set `[hidden] { display: none !important; }` so we also need the `!important` here to be able to override the default hidden behavior on the sphinx rendered scikit-learn.org. See: https://github.com/scikit-learn/scikit-learn/issues/21755 */display: inline-block !important;position: relative;}#sk-container-id-3 div.sk-text-repr-fallback {display: none;}</style><div id=\"sk-container-id-3\" class=\"sk-top-container\"><div class=\"sk-text-repr-fallback\"><pre>KNeighborsClassifier()</pre><b>In a Jupyter environment, please rerun this cell to show the HTML representation or trust the notebook. <br />On GitHub, the HTML representation is unable to render, please try loading this page with nbviewer.org.</b></div><div class=\"sk-container\" hidden><div class=\"sk-item\"><div class=\"sk-estimator sk-toggleable\"><input class=\"sk-toggleable__control sk-hidden--visually\" id=\"sk-estimator-id-3\" type=\"checkbox\" checked><label for=\"sk-estimator-id-3\" class=\"sk-toggleable__label sk-toggleable__label-arrow\">KNeighborsClassifier</label><div class=\"sk-toggleable__content\"><pre>KNeighborsClassifier()</pre></div></div></div></div></div>"
      ],
      "text/plain": [
       "KNeighborsClassifier()"
      ]
     },
     "execution_count": 35,
     "metadata": {},
     "output_type": "execute_result"
    }
   ],
   "source": [
    "classifier_2 = KNeighborsClassifier(n_neighbors= 5, algorithm = 'auto', metric = 'minkowski')\n",
    "classifier_2.fit(X_train, y_train)"
   ]
  },
  {
   "cell_type": "markdown",
   "id": "fc1db495-4ebb-4425-b80b-d8294329e68c",
   "metadata": {},
   "source": [
    "Comprobamos la presicion de este nuevo modelo."
   ]
  },
  {
   "cell_type": "code",
   "execution_count": 39,
   "id": "0d5b4054-740c-4e13-adc8-5ac364f8e17c",
   "metadata": {},
   "outputs": [
    {
     "name": "stdout",
     "output_type": "stream",
     "text": [
      "La precisión es de : 88.28%\n"
     ]
    }
   ],
   "source": [
    "y_pred_2 = classifier_2.predict(X_test)\n",
    "accuracy_2 = accuracy_score(y_test, y_pred_2)\n",
    "print(f'La precisión es de : {accuracy_2 * 100:.2f}%')"
   ]
  },
  {
   "cell_type": "markdown",
   "id": "35b1b04e",
   "metadata": {},
   "source": [
    "## 6.- Definir algoritmo Decision Tree con tres set de hiperparámetros diferentes (se debe escoger diferentes valores de hiperparámetros)\n",
    "\n",
    "1.- Definir algoritmo con sus hiperparámetros.\n",
    "\n",
    "2.- Entrenar el algoritmo.\n",
    "\n",
    "3.- Testear el algoritmo.\n",
    "\n",
    "## Explicar las decisiones tomadas y los pasos realizados (25 ptos.):\n",
    "\n",
    "\n",
    "Apoyarse en la documentación de Scikit-Learn para Decision Tree https://scikit-learn.org/stable/modules/generated/sklearn.tree.DecisionTreeClassifier.html"
   ]
  },
  {
   "cell_type": "markdown",
   "id": "5b3b214a",
   "metadata": {},
   "source": [
    "Respuesta:\n",
    "---\n",
    "    \n",
    "    \n",
    "Ahora con respecto al arbol de decisiones vamos a empezar con el parametro *gini* para minimizar la impureza de los nodos, al generar mezclas entre categorias erroneas. Este arbol va a tener una profundidad de 2 niveles y un valor minimo de 2 muestras para formar las hojas del arbol."
   ]
  },
  {
   "cell_type": "code",
   "execution_count": 40,
   "id": "517b7569",
   "metadata": {},
   "outputs": [],
   "source": [
    "clf_0 = tree.DecisionTreeClassifier(criterion = 'gini', max_depth = 2, min_samples_leaf = 2)\n",
    "clf_0 = clf_0.fit(X_train, y_train)"
   ]
  },
  {
   "cell_type": "markdown",
   "id": "b3facb76-3914-4a87-a2da-2e7dae50da42",
   "metadata": {},
   "source": [
    "Para comprobar el  poder de prediccion de este arbol vamos a utilizar el mismo metodo que para el algoritmo KNN. "
   ]
  },
  {
   "cell_type": "code",
   "execution_count": 41,
   "id": "4fe85550-e7d7-4cd2-aaa5-64c8d02df639",
   "metadata": {},
   "outputs": [
    {
     "name": "stdout",
     "output_type": "stream",
     "text": [
      "La precisión es de : 89.46%\n"
     ]
    }
   ],
   "source": [
    "y_pred_0 = clf_0.predict(X_test)\n",
    "accuracy_0 = accuracy_score(y_test, y_pred_0)\n",
    "print(f'La precisión es de : {accuracy_0 * 100:.2f}%')"
   ]
  },
  {
   "cell_type": "markdown",
   "id": "d8b6fd7f-cabe-4a3b-9452-67d83b3ed072",
   "metadata": {},
   "source": [
    "Para este segundo arbol vamos a aumetar la profundidad y el valor minimo de muestra en 1. Pero cambiamos al criterio *entropy* para maximizar la información ganada."
   ]
  },
  {
   "cell_type": "code",
   "execution_count": 42,
   "id": "a616d12e-6ee7-4a99-b7a7-40d03b95cd80",
   "metadata": {},
   "outputs": [],
   "source": [
    "clf_1 = tree.DecisionTreeClassifier(criterion = 'entropy', max_depth = 3, min_samples_leaf = 3)\n",
    "clf_1 = clf_1.fit(X_train, y_train)"
   ]
  },
  {
   "cell_type": "markdown",
   "id": "0d47833f-7016-44eb-bde4-883a0785d66d",
   "metadata": {},
   "source": [
    "Comprobamos la predicción."
   ]
  },
  {
   "cell_type": "code",
   "execution_count": 43,
   "id": "3fa3fc04-8952-4d82-a9ca-7f3cdfdbf14d",
   "metadata": {},
   "outputs": [
    {
     "name": "stdout",
     "output_type": "stream",
     "text": [
      "La precisión es de : 89.24%\n"
     ]
    }
   ],
   "source": [
    "y_pred_1 = clf_1.predict(X_test)\n",
    "accuracy_1 = accuracy_score(y_test, y_pred_1)\n",
    "print(f'La precisión es de : {accuracy_1 * 100:.2f}%')"
   ]
  },
  {
   "cell_type": "markdown",
   "id": "93f18505-66d6-4499-88e2-5cf7f81ce710",
   "metadata": {},
   "source": [
    "Vemos que tenemos una reducción del 0.2%. Para finalizar el trabajo con este algoritmo vamos a volver a realizar un aumento en profundidad junto a minimo de muestras en 1 con el criterio *log_loss* que mide la discrepacia entre las predicciones y sus valores reales."
   ]
  },
  {
   "cell_type": "code",
   "execution_count": 44,
   "id": "c9b673e8-9c56-4a6c-9ae8-70b3e36a882b",
   "metadata": {},
   "outputs": [],
   "source": [
    "clf_2 = tree.DecisionTreeClassifier(criterion = 'log_loss', max_depth = 4, min_samples_leaf = 4)\n",
    "clf_2 = clf_2.fit(X_train, y_train)"
   ]
  },
  {
   "cell_type": "markdown",
   "id": "58f866f2-029f-468d-b625-4f27be932f2b",
   "metadata": {},
   "source": [
    "Al calcular la presicion de este ultimo modelo "
   ]
  },
  {
   "cell_type": "code",
   "execution_count": 45,
   "id": "3529569c-b45d-40e3-94c0-0ad8cea2ffa0",
   "metadata": {},
   "outputs": [
    {
     "name": "stdout",
     "output_type": "stream",
     "text": [
      "La precisión es de : 89.09%\n"
     ]
    }
   ],
   "source": [
    "y_pred_2 = clf_2.predict(X_test)\n",
    "accuracy_2 = accuracy_score(y_test, y_pred_2)\n",
    "print(f'La precisión es de : {accuracy_2 * 100:.2f}%')"
   ]
  },
  {
   "cell_type": "markdown",
   "id": "696b13e7-2c77-412a-806d-5330a8549e1b",
   "metadata": {},
   "source": [
    "Hay una reducción del 0.2%."
   ]
  },
  {
   "cell_type": "markdown",
   "id": "ab617e7a",
   "metadata": {},
   "source": [
    "## 7.- Realizar un gráfico para KNN\n",
    "\n",
    "## Explicar las decisiones tomadas y los pasos realizados (5 ptos.):\n",
    "\n"
   ]
  },
  {
   "cell_type": "markdown",
   "id": "caa1c833",
   "metadata": {},
   "source": [
    "Respuesta:\n",
    "---\n",
    "    \n",
    "    \n",
    "Dado que el algoritmo KNN puede utilizar cualquier valor de vecinos para realizar predicciones, vamos a realizar un grafico para determinar cual es el valor con mejor presicion. Para ello creamos dos listas, una vacia para guardar los valores de presicion y otra con 200 valores posibles de k."
   ]
  },
  {
   "cell_type": "code",
   "execution_count": 51,
   "id": "c7855477",
   "metadata": {},
   "outputs": [],
   "source": [
    "error = []\n",
    "k_valores = list(range(1,201))"
   ]
  },
  {
   "cell_type": "markdown",
   "id": "62152361-edd7-4d01-9595-9edef8fa12ff",
   "metadata": {},
   "source": [
    "Mediante un ciclo *for* le damos diferentes valor de k al algoritmo además de calcular su presicion y guardala en nuestra lista vacia."
   ]
  },
  {
   "cell_type": "code",
   "execution_count": 52,
   "id": "f2a915c2-3c80-497b-98d7-33319fdd61a1",
   "metadata": {},
   "outputs": [],
   "source": [
    "for i in k_valores:\n",
    "    knn = KNeighborsClassifier(n_neighbors=i)\n",
    "    precision = cross_val_score(knn, x, y, scoring = 'accuracy')\n",
    "    error.append(np.mean(precision))"
   ]
  },
  {
   "cell_type": "markdown",
   "id": "a3112b5f-e568-4d89-be41-4e3c8cc4c16a",
   "metadata": {},
   "source": [
    "Ahora realizamos un grafico con cada valor de k y su presición."
   ]
  },
  {
   "cell_type": "code",
   "execution_count": 53,
   "id": "6b3f0c58-7faf-4f62-a169-03bc014a13a7",
   "metadata": {},
   "outputs": [
    {
     "data": {
      "image/png": "[encoded data removed]",
      "text/plain": [
       "<Figure size 800x600 with 1 Axes>"
      ]
     },
     "metadata": {},
     "output_type": "display_data"
    }
   ],
   "source": [
    "plt.figure(figsize = (8,6)) \n",
    "plt.plot(k_valores, error, color='red', linestyle='dashed', marker='o',)\n",
    "plt.title('Valor de K vs Precisión')\n",
    "plt.xlabel('Valor de K')\n",
    "plt.ylabel('Precisión')\n",
    "plt.show()"
   ]
  },
  {
   "cell_type": "markdown",
   "id": "da360aca-01f5-488f-aa70-5b4403b902e1",
   "metadata": {},
   "source": [
    "Se puede notar que hay un valor con mayor presicion, tal que para determinarlo vamos a extraerlo de la lista con el comando *argmax()* para extraer el valor de k que posee la mejor presicion."
   ]
  },
  {
   "cell_type": "code",
   "execution_count": 54,
   "id": "62b64b08-509c-4f77-8265-701429cc2e96",
   "metadata": {},
   "outputs": [
    {
     "name": "stdout",
     "output_type": "stream",
     "text": [
      "Mejor k = 2\n"
     ]
    }
   ],
   "source": [
    "k_optimo = k_valores[np.argmax(precision)]\n",
    "print('Mejor k =',k_optimo)"
   ]
  },
  {
   "cell_type": "markdown",
   "id": "20fe1bd7",
   "metadata": {},
   "source": [
    "## 8.- Realizar un gráfico para Decision Tree \n",
    "\n",
    "## Explicar las decisiones tomadas y los pasos realizados (5 ptos.):\n",
    "\n"
   ]
  },
  {
   "cell_type": "markdown",
   "id": "f07764a2",
   "metadata": {},
   "source": [
    "Respuesta:\n",
    "---\n",
    "    \n",
    "    \n",
    "Con respecto al arbol de decisiones, vamos a graficar el arbol con menor precisión mediante la funcion *plot_tree*. La razon de ello es resulto siendo el arbol más grande, lo cual me hace intuir que capaz es mas completo que los otros."
   ]
  },
  {
   "cell_type": "code",
   "execution_count": 58,
   "id": "a9c0b482",
   "metadata": {},
   "outputs": [
    {
     "data": {
      "image/png": "[encoded data removed]",
      "text/plain": [
       "<Figure size 1200x800 with 1 Axes>"
      ]
     },
     "metadata": {},
     "output_type": "display_data"
    }
   ],
   "source": [
    "plt.figure(figsize = (12,8))\n",
    "plot_tree(clf_2)\n",
    "plt.show()"
   ]
  },
  {
   "cell_type": "code",
   "execution_count": null,
   "id": "80fa6921-d476-439a-b6a5-2a44414c9ab3",
   "metadata": {},
   "outputs": [],
   "source": []
  }
 ],
 "metadata": {
  "kernelspec": {
   "display_name": "Python 3 (ipykernel)",
   "language": "python",
   "name": "python3"
  },
  "language_info": {
   "codemirror_mode": {
    "name": "ipython",
    "version": 3
   },
   "file_extension": ".py",
   "mimetype": "text/x-python",
   "name": "python",
   "nbconvert_exporter": "python",
   "pygments_lexer": "ipython3",
   "version": "3.9.18"
  }
 },
 "nbformat": 4,
 "nbformat_minor": 5
}
